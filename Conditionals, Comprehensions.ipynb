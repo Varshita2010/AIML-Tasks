{
 "cells": [
  {
   "cell_type": "markdown",
   "id": "2f61c5dd-28a5-4b69-8754-720cc4f2844e",
   "metadata": {},
   "source": [
    "#### DAY6\n",
    "#### Conventional statements"
   ]
  },
  {
   "cell_type": "code",
   "execution_count": 2,
   "id": "55a44201-0cf2-462b-b4e6-40c185be7eef",
   "metadata": {},
   "outputs": [
    {
     "name": "stdout",
     "output_type": "stream",
     "text": [
      "even\n"
     ]
    }
   ],
   "source": [
    "# conventional if-else\n",
    "num = 18\n",
    "if num %2 == 0:\n",
    "    print(\"even\")\n",
    "else:\n",
    "    print(\"odd\")"
   ]
  },
  {
   "cell_type": "code",
   "execution_count": 7,
   "id": "bb91b491-2bb1-4be5-91a9-3290143848aa",
   "metadata": {},
   "outputs": [
    {
     "name": "stdout",
     "output_type": "stream",
     "text": [
      "even\n"
     ]
    }
   ],
   "source": [
    "#short way of writing conventional if-else\n",
    "#single line code\n",
    "print(\"even\")if num%2==0 else print(\"odd\")"
   ]
  },
  {
   "cell_type": "markdown",
   "id": "969becbe-a790-44ad-b344-2c3afb49fbe9",
   "metadata": {},
   "source": [
    "#### syntax for one line if-else\n",
    "(code for if block)if condition else(code for else block)"
   ]
  },
  {
   "cell_type": "code",
   "execution_count": 14,
   "id": "e5c56cbc-f431-4acf-8cfb-31221a15fc8a",
   "metadata": {},
   "outputs": [
    {
     "name": "stdout",
     "output_type": "stream",
     "text": [
      "Positive\n"
     ]
    }
   ],
   "source": [
    "x = 15\n",
    "result = \"Positive\" if x > 0 else \"Negative\"\n",
    "print(result)"
   ]
  },
  {
   "cell_type": "code",
   "execution_count": 22,
   "id": "e7b47ef7-d98a-461f-b292-6d35fbd6f78c",
   "metadata": {},
   "outputs": [
    {
     "name": "stdin",
     "output_type": "stream",
     "text": [
      "Enter your age:  19\n"
     ]
    },
    {
     "name": "stdout",
     "output_type": "stream",
     "text": [
      "Adult\n"
     ]
    }
   ],
   "source": [
    "#short way of writing if else \n",
    "age = int(input(\"Enter your age: \")) #input by user\n",
    "category = \"Adult\" if age >= 18 else \"Minor\"\n",
    "print(category)"
   ]
  },
  {
   "cell_type": "markdown",
   "id": "33054ca6-275d-4720-a9f0-dcd46498e86b",
   "metadata": {},
   "source": [
    "#### Nested if-else in one line"
   ]
  },
  {
   "cell_type": "code",
   "execution_count": 31,
   "id": "08faefe7-e9b7-40aa-ab73-99e6edb21217",
   "metadata": {},
   "outputs": [
    {
     "name": "stdin",
     "output_type": "stream",
     "text": [
      " -8\n"
     ]
    },
    {
     "name": "stdout",
     "output_type": "stream",
     "text": [
      "Negative\n"
     ]
    }
   ],
   "source": [
    "num = int(input())\n",
    "result = \"Positive\" if num > 0 else \"Negative\" if num < 0 else \"Zero\"\n",
    "print(result)"
   ]
  },
  {
   "cell_type": "markdown",
   "id": "23e71123-37af-4e07-9e69-8a95766a30e0",
   "metadata": {},
   "source": [
    "#### list comprehension\n",
    "It is python provide a short way to create list by incorporating a loop and optional conditional logic in a single line use a list comprehension to tranform and filter elements"
   ]
  },
  {
   "cell_type": "code",
   "execution_count": 49,
   "id": "c277f405-8ea7-4bec-a032-0d5222c58f8b",
   "metadata": {},
   "outputs": [
    {
     "data": {
      "text/plain": [
       "[2, 36, 4, 20, 30, 178]"
      ]
     },
     "execution_count": 49,
     "metadata": {},
     "output_type": "execute_result"
    }
   ],
   "source": [
    "l = [1,18,2,10,15,89]\n",
    "[2*x for x in l ]"
   ]
  },
  {
   "cell_type": "code",
   "execution_count": 60,
   "id": "1e556b57-9424-46c9-ac71-8fbf79fc80e4",
   "metadata": {},
   "outputs": [
    {
     "data": {
      "text/plain": [
       "[18, 2, 10]"
      ]
     },
     "execution_count": 60,
     "metadata": {},
     "output_type": "execute_result"
    }
   ],
   "source": [
    "[x for x in l if x%2 == 0] #prits even number"
   ]
  },
  {
   "cell_type": "code",
   "execution_count": 62,
   "id": "43f27f80-1bc8-4fe1-beb5-41b43e361762",
   "metadata": {},
   "outputs": [
    {
     "data": {
      "text/plain": [
       "[1, 15, 89]"
      ]
     },
     "execution_count": 62,
     "metadata": {},
     "output_type": "execute_result"
    }
   ],
   "source": [
    "[x for x in l if x%2 != 0] #prints odd number"
   ]
  },
  {
   "cell_type": "code",
   "execution_count": 80,
   "id": "d51b1252-5dbb-456e-b8d4-b2150d81421c",
   "metadata": {},
   "outputs": [
    {
     "data": {
      "text/plain": [
       "{'Ram': [90, 94, 96, 98], 'john': [56, 78, 89, 90], 'Rohith': [95, 96, 97, 98]}"
      ]
     },
     "execution_count": 80,
     "metadata": {},
     "output_type": "execute_result"
    }
   ],
   "source": [
    "#Dictionary comprehension \n",
    "d1 = {'Ram':[90,94,96,98], 'john':[56,78,89,90], 'Rohith':[95,96,97,98,]}\n",
    "d1"
   ]
  },
  {
   "cell_type": "code",
   "execution_count": 82,
   "id": "7acbbd38-2d78-43ae-bb96-af33fa368758",
   "metadata": {},
   "outputs": [
    {
     "data": {
      "text/plain": [
       "{'Ram': 94.5, 'john': 78.25, 'Rohith': 96.5}"
      ]
     },
     "execution_count": 82,
     "metadata": {},
     "output_type": "execute_result"
    }
   ],
   "source": [
    "{k:sum(v)/len(v) for k,v in d1.items()}"
   ]
  },
  {
   "cell_type": "markdown",
   "id": "1d91c6d2-8842-44e5-a9b7-a31fd46ea472",
   "metadata": {},
   "source": [
    "#### User Defined Function\n",
    "They are modular in nature \n",
    "....>>That is they are reusable code \n",
    "....>>Syntax : def function_name(arguments):\n",
    "                   ->code1\n",
    "                   ->code2 etc...."
   ]
  },
  {
   "cell_type": "markdown",
   "id": "d2f0a666-78b8-43e5-8969-fa5e96597955",
   "metadata": {},
   "source": [
    "#### Write a user defined fuction to compute avg of a list of numbers "
   ]
  },
  {
   "cell_type": "code",
   "execution_count": 91,
   "id": "a98ca5e8-dca9-4fc1-9581-a8737ae5c9f5",
   "metadata": {},
   "outputs": [],
   "source": [
    "def mean_value(given_list):\n",
    "    total = sum(given_list)\n",
    "    avg_value = total/len(given_list)\n",
    "    return avg_value"
   ]
  },
  {
   "cell_type": "code",
   "execution_count": 95,
   "id": "250a1ba4-59b4-42e5-88bb-5ad9ddf31acf",
   "metadata": {},
   "outputs": [
    {
     "data": {
      "text/plain": [
       "9.444444444444445"
      ]
     },
     "execution_count": 95,
     "metadata": {},
     "output_type": "execute_result"
    }
   ],
   "source": [
    "# call the function \n",
    "L = [1,3,5,7,9,12,14,16,18]\n",
    "mean_value(L)"
   ]
  },
  {
   "cell_type": "code",
   "execution_count": 113,
   "id": "10ed9cd9-ee2c-4821-a543-5cf2b06f7091",
   "metadata": {},
   "outputs": [],
   "source": [
    "def greet(Message):\n",
    "    message = str(input(\"Good Morning\"))\n",
    "    return message"
   ]
  },
  {
   "cell_type": "code",
   "execution_count": 115,
   "id": "47d6eee3-9fe7-40bc-9448-666d2c6a3839",
   "metadata": {},
   "outputs": [
    {
     "name": "stdin",
     "output_type": "stream",
     "text": [
      "Good Morning varshita\n"
     ]
    },
    {
     "data": {
      "text/plain": [
       "'varshita'"
      ]
     },
     "execution_count": 115,
     "metadata": {},
     "output_type": "execute_result"
    }
   ],
   "source": [
    "greet(string)"
   ]
  },
  {
   "cell_type": "code",
   "execution_count": null,
   "id": "235a97fb-3bc8-4b99-9b1a-7b6690ca1c3f",
   "metadata": {},
   "outputs": [],
   "source": []
  }
 ],
 "metadata": {
  "kernelspec": {
   "display_name": "Python [conda env:base] *",
   "language": "python",
   "name": "conda-base-py"
  },
  "language_info": {
   "codemirror_mode": {
    "name": "ipython",
    "version": 3
   },
   "file_extension": ".py",
   "mimetype": "text/x-python",
   "name": "python",
   "nbconvert_exporter": "python",
   "pygments_lexer": "ipython3",
   "version": "3.12.7"
  }
 },
 "nbformat": 4,
 "nbformat_minor": 5
}
