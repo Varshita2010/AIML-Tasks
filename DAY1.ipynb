{
 "cells": [
  {
   "cell_type": "code",
   "execution_count": null,
   "id": "4abf29c9-43b8-4f07-8a25-c64de8fd5107",
   "metadata": {},
   "outputs": [],
   "source": [
    "#today done with initialiization of anaconda and github signin \n",
    "#tested two codes "
   ]
  },
  {
   "cell_type": "code",
   "execution_count": 15,
   "id": "129b415b-b8f0-4cd6-bbe9-d0de825771a1",
   "metadata": {},
   "outputs": [],
   "source": [
    "#seperating even and odd from a list of numbers(CW)\n",
    "L = [100,50,193,443,256,53,1000]\n",
    "L1 = []\n",
    "L2 = []\n",
    "for x in L:\n",
    "    if x%2 ==0:\n",
    "        L1.append(x)\n",
    "    else:\n",
    "        L2.append(x)"
   ]
  },
  {
   "cell_type": "code",
   "execution_count": 17,
   "id": "7b5709e3-46a1-4d3e-be50-ee109a35f997",
   "metadata": {},
   "outputs": [
    {
     "name": "stdout",
     "output_type": "stream",
     "text": [
      "[100, 50, 256, 1000]\n"
     ]
    }
   ],
   "source": [
    "print(L1)\n"
   ]
  },
  {
   "cell_type": "code",
   "execution_count": 19,
   "id": "a4604831-f9bb-4269-9ea0-03230a9d3959",
   "metadata": {},
   "outputs": [
    {
     "name": "stdout",
     "output_type": "stream",
     "text": [
      "[193, 443, 53]\n"
     ]
    }
   ],
   "source": [
    "print(L2)"
   ]
  },
  {
   "cell_type": "code",
   "execution_count": 53,
   "id": "95c2e92d-58e6-47b3-986a-d56bcff3e60f",
   "metadata": {},
   "outputs": [
    {
     "name": "stdout",
     "output_type": "stream",
     "text": [
      "100\n",
      "50\n",
      "193\n",
      "443\n",
      "256\n",
      "53\n",
      "1000\n"
     ]
    }
   ],
   "source": [
    "#HM\n",
    "L = [100,50,193,443,256,53,1000]\n",
    "for x in L:\n",
    "    if x%2 ==0:\n",
    "        print(x)\n",
    "    else:\n",
    "        print(x)"
   ]
  },
  {
   "cell_type": "code",
   "execution_count": 59,
   "id": "957cb02a-86a6-4bef-a380-5f04fbaffab9",
   "metadata": {},
   "outputs": [],
   "source": [
    "#seperating the data typs \n",
    "L = [\"A\",\"B\",100,205,True,6+8j]\n",
    "L1 = []\n",
    "L2 = []\n",
    "L3 = []\n",
    "L4 = []\n",
    "for x in L:\n",
    "    if isinstance(x,int):\n",
    "        L1.append(x)\n",
    "    if isinstance(x,str):\n",
    "        L2.append(x)\n",
    "    if isinstance(x,bool):\n",
    "        L3.append(x)\n",
    "    if isinstance(x,complex):\n",
    "        L4.append(x)"
   ]
  },
  {
   "cell_type": "code",
   "execution_count": 63,
   "id": "3b582142-dd4f-4c45-98e8-9e4006a4bb2b",
   "metadata": {},
   "outputs": [
    {
     "name": "stdout",
     "output_type": "stream",
     "text": [
      "[100, 205, True]\n"
     ]
    }
   ],
   "source": [
    "print(L1)"
   ]
  },
  {
   "cell_type": "code",
   "execution_count": 51,
   "id": "90da79ff-b581-46ca-8f71-8b82cce4b4b3",
   "metadata": {},
   "outputs": [
    {
     "name": "stdout",
     "output_type": "stream",
     "text": [
      "['A', 'B']\n"
     ]
    }
   ],
   "source": [
    "print(L2)"
   ]
  },
  {
   "cell_type": "code",
   "execution_count": 55,
   "id": "6e14d978-c4d4-4926-ad1e-c05c7b3c309e",
   "metadata": {},
   "outputs": [
    {
     "name": "stdout",
     "output_type": "stream",
     "text": [
      "[True]\n"
     ]
    }
   ],
   "source": [
    "print(L3)"
   ]
  },
  {
   "cell_type": "code",
   "execution_count": 61,
   "id": "7f6d7418-e963-466d-a60a-6c323a286f7c",
   "metadata": {},
   "outputs": [
    {
     "name": "stdout",
     "output_type": "stream",
     "text": [
      "[(6+8j)]\n"
     ]
    }
   ],
   "source": [
    "print(L4)"
   ]
  },
  {
   "cell_type": "code",
   "execution_count": 65,
   "id": "c79bb936-113b-4c6a-9605-420b5c89485e",
   "metadata": {},
   "outputs": [],
   "source": [
    "L = [\"A\",\"B\",100,205,True,6+8j]\n",
    "L1 = []\n",
    "L2 = []\n",
    "L3 = []\n",
    "L4 = []\n",
    "for x in L:\n",
    "    if type (x) == int:\n",
    "        L1.append(x)\n",
    "    elif type(x) == float:\n",
    "        L1.append(x)\n",
    "    if type(x) == str:\n",
    "        L2.append(x)\n",
    "    if type(x) == bool:\n",
    "        L3.append(x)\n",
    "    if type(x) == complex:\n",
    "        L4.append(x)"
   ]
  },
  {
   "cell_type": "code",
   "execution_count": 67,
   "id": "694a2aaf-4d73-4df9-931f-2d0c55d29cfd",
   "metadata": {},
   "outputs": [
    {
     "name": "stdout",
     "output_type": "stream",
     "text": [
      "[100, 205]\n"
     ]
    }
   ],
   "source": [
    "print(L1)"
   ]
  },
  {
   "cell_type": "code",
   "execution_count": 69,
   "id": "7db42c53-a64d-4fe1-ab83-d66f596c29a4",
   "metadata": {},
   "outputs": [
    {
     "name": "stdout",
     "output_type": "stream",
     "text": [
      "['A', 'B']\n"
     ]
    }
   ],
   "source": [
    "print(L2)"
   ]
  },
  {
   "cell_type": "code",
   "execution_count": 71,
   "id": "a16180cc-daf0-4c8a-a360-d7f8dfc15060",
   "metadata": {},
   "outputs": [
    {
     "name": "stdout",
     "output_type": "stream",
     "text": [
      "[True]\n"
     ]
    }
   ],
   "source": [
    "print(L3)"
   ]
  },
  {
   "cell_type": "code",
   "execution_count": 75,
   "id": "35b2ca4d-1671-410b-ab26-6fcc2bf0c17f",
   "metadata": {},
   "outputs": [
    {
     "name": "stdout",
     "output_type": "stream",
     "text": [
      "[(6+8j)]\n"
     ]
    }
   ],
   "source": [
    "print(L4)"
   ]
  },
  {
   "cell_type": "markdown",
   "id": "e6d3c3cb-35b8-4eca-b356-71497e78d5d4",
   "metadata": {},
   "source": [
    "### DATA STRUCTURES"
   ]
  },
  {
   "cell_type": "code",
   "execution_count": 85,
   "id": "6124a9b5-de1a-4258-9baa-453f124b3173",
   "metadata": {},
   "outputs": [],
   "source": [
    "#intruduction to lists it may contain different data types\n",
    "#properties\n",
    "#mutable,index is alone,orderedd,iterable objects,"
   ]
  },
  {
   "cell_type": "code",
   "execution_count": null,
   "id": "0b57ae8d-5fe5-4a4e-96a0-fedcf17be4aa",
   "metadata": {},
   "outputs": [],
   "source": []
  }
 ],
 "metadata": {
  "kernelspec": {
   "display_name": "Python [conda env:base] *",
   "language": "python",
   "name": "conda-base-py"
  },
  "language_info": {
   "codemirror_mode": {
    "name": "ipython",
    "version": 3
   },
   "file_extension": ".py",
   "mimetype": "text/x-python",
   "name": "python",
   "nbconvert_exporter": "python",
   "pygments_lexer": "ipython3",
   "version": "3.12.7"
  }
 },
 "nbformat": 4,
 "nbformat_minor": 5
}
