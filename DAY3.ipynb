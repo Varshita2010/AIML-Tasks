{
 "cells": [
  {
   "cell_type": "code",
   "execution_count": 9,
   "id": "695d76e8-842f-4c28-b8db-18fe3d243d46",
   "metadata": {},
   "outputs": [
    {
     "name": "stdout",
     "output_type": "stream",
     "text": [
      "[['apple', 10], ['banana', 5], ['cherry', 10], ['dragon', 10], ['grape', 9], ['apple', 20]]\n"
     ]
    }
   ],
   "source": [
    "#continuation of lists\n",
    "orders = [['apple',10],['banana',5],['cherry',7],['dragon',10],['grape',9],['apple',20]]\n",
    "for each in orders:\n",
    "    if each[0] == \"cherry\":\n",
    "          each[1] = 10\n",
    "print(orders)"
   ]
  },
  {
   "cell_type": "code",
   "execution_count": 11,
   "id": "b3777a42-e895-48a5-8ec8-c1ed38bab500",
   "metadata": {},
   "outputs": [
    {
     "data": {
      "text/plain": [
       "[['apple', 10],\n",
       " ['banana', 5],\n",
       " ['cherry', 10],\n",
       " ['dragon', 10],\n",
       " ['grape', 9],\n",
       " ['apple', 20]]"
      ]
     },
     "execution_count": 11,
     "metadata": {},
     "output_type": "execute_result"
    }
   ],
   "source": [
    "orders"
   ]
  },
  {
   "cell_type": "code",
   "execution_count": 39,
   "id": "5a855c50-a0d8-4081-bbd7-fcfc5d0c4712",
   "metadata": {},
   "outputs": [
    {
     "name": "stdout",
     "output_type": "stream",
     "text": [
      "[10, 20]\n",
      "30\n"
     ]
    }
   ],
   "source": [
    "apple_orders=[]\n",
    "for each in orders:\n",
    "    if each[0] == \"apple\":\n",
    "        apple_orders.append(each[1])\n",
    "print(apple_orders)\n",
    "print(sum(apple_orders))"
   ]
  },
  {
   "cell_type": "markdown",
   "id": "890f0243-200f-453b-aea4-11d1a8d1d185",
   "metadata": {},
   "source": [
    "##Tuples"
   ]
  },
  {
   "cell_type": "code",
   "execution_count": 43,
   "id": "75f88d89-94b3-4e9d-8320-dc08c0e9b6ee",
   "metadata": {},
   "outputs": [
    {
     "ename": "SyntaxError",
     "evalue": "invalid syntax (1281831607.py, line 1)",
     "output_type": "error",
     "traceback": [
      "\u001b[1;36m  Cell \u001b[1;32mIn[43], line 1\u001b[1;36m\u001b[0m\n\u001b[1;33m    Important properties of tuples in Python\u001b[0m\n\u001b[1;37m              ^\u001b[0m\n\u001b[1;31mSyntaxError\u001b[0m\u001b[1;31m:\u001b[0m invalid syntax\n"
     ]
    }
   ],
   "source": [
    "##Important properties of tuples in Python \n",
    "#>Ordered\n",
    "#>Immutable and fixedd size after creation\n",
    "#>Heterogeneous elements \n",
    "#>Zero based Indexing and slicing \n",
    "#>Allow Duplicates\n",
    "#>Iterable\n",
    "#>Support for Nesting\n",
    "#>Supports Basic operations and few methods\n",
    "#>"
   ]
  },
  {
   "cell_type": "code",
   "execution_count": 45,
   "id": "d7f36666-b4c6-4900-90e6-5f807de85c72",
   "metadata": {},
   "outputs": [],
   "source": [
    "Tup1 = (3,5,9,10)\n",
    "Tup2 = 10,20,30,'hi'\n",
    "Tup3 = tuple([1,2,5,7])"
   ]
  },
  {
   "cell_type": "code",
   "execution_count": 49,
   "id": "a4ba3818-3dc8-4b50-826e-3094ba116892",
   "metadata": {},
   "outputs": [
    {
     "name": "stdout",
     "output_type": "stream",
     "text": [
      "(3, 5, 9, 10)\n",
      "(10, 20, 30, 'hi')\n",
      "(1, 2, 5, 7)\n",
      "<class 'tuple'>\n"
     ]
    }
   ],
   "source": [
    "print(Tup1)\n",
    "print(Tup2)\n",
    "print(Tup3)\n",
    "print(type(Tup3))"
   ]
  },
  {
   "cell_type": "code",
   "execution_count": 81,
   "id": "d6ebc7af-2f1a-4335-8c45-fcbc8d5d6723",
   "metadata": {},
   "outputs": [],
   "source": [
    "t4 = ([3,4,5],[1,3,4],(3,5,3),\"Hello\",107)"
   ]
  },
  {
   "cell_type": "code",
   "execution_count": 83,
   "id": "c590fe35-81a8-4e38-8c9b-97690f4959a7",
   "metadata": {},
   "outputs": [
    {
     "name": "stdout",
     "output_type": "stream",
     "text": [
      "([3, 4, 5], [1, 3, 4], (3, 5, 3), 'Hello', 107)\n"
     ]
    }
   ],
   "source": [
    "print(t4)"
   ]
  },
  {
   "cell_type": "code",
   "execution_count": 85,
   "id": "46ac4f01-e4c7-4935-a98b-e5110a64f271",
   "metadata": {},
   "outputs": [
    {
     "data": {
      "text/plain": [
       "([3, 4, 5], [1, 143, 4], (3, 5, 3), 'Hello', 107)"
      ]
     },
     "execution_count": 85,
     "metadata": {},
     "output_type": "execute_result"
    }
   ],
   "source": [
    "#replacing numbers or the tuple \n",
    "t4[1][1] = 143\n",
    "t4"
   ]
  },
  {
   "cell_type": "code",
   "execution_count": 87,
   "id": "711cfc15-2cfb-4bc5-905e-a1eb230c3b74",
   "metadata": {},
   "outputs": [],
   "source": [
    "t5 = ([3,4,5],(4,8,9),\"Hello\",107)"
   ]
  },
  {
   "cell_type": "code",
   "execution_count": 89,
   "id": "4a605714-1744-45c2-8320-1a04269d38ff",
   "metadata": {},
   "outputs": [
    {
     "name": "stdout",
     "output_type": "stream",
     "text": [
      "([3, 4, 5], (4, 8, 9), 'Hello', 107)\n"
     ]
    }
   ],
   "source": [
    "print(t5)"
   ]
  },
  {
   "cell_type": "code",
   "execution_count": 91,
   "id": "af2c09b1-1dad-4a89-a5c1-cf8705cfb13d",
   "metadata": {},
   "outputs": [
    {
     "data": {
      "text/plain": [
       "([3, 4, 5], (4, 8, 9), 'Hello', 107)"
      ]
     },
     "execution_count": 91,
     "metadata": {},
     "output_type": "execute_result"
    }
   ],
   "source": [
    "t5"
   ]
  },
  {
   "cell_type": "code",
   "execution_count": 96,
   "id": "39f06eb3-469a-4a86-856a-bb79148676e5",
   "metadata": {},
   "outputs": [
    {
     "data": {
      "text/plain": [
       "4"
      ]
     },
     "execution_count": 96,
     "metadata": {},
     "output_type": "execute_result"
    }
   ],
   "source": [
    "#use count() method of tuple to count an \n",
    "t6 = (10,20,1,10,10,30,10)\n",
    "t6.count(10)"
   ]
  },
  {
   "cell_type": "code",
   "execution_count": null,
   "id": "407447a7-8854-4a9b-b6a8-229034860d98",
   "metadata": {},
   "outputs": [],
   "source": []
  }
 ],
 "metadata": {
  "kernelspec": {
   "display_name": "Python [conda env:base] *",
   "language": "python",
   "name": "conda-base-py"
  },
  "language_info": {
   "codemirror_mode": {
    "name": "ipython",
    "version": 3
   },
   "file_extension": ".py",
   "mimetype": "text/x-python",
   "name": "python",
   "nbconvert_exporter": "python",
   "pygments_lexer": "ipython3",
   "version": "3.12.7"
  }
 },
 "nbformat": 4,
 "nbformat_minor": 5
}
