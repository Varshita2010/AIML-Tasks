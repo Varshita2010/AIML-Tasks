{
 "cells": [
  {
   "cell_type": "code",
   "execution_count": 2,
   "id": "12b682c1-6324-487c-8870-a0ef71eb2d36",
   "metadata": {},
   "outputs": [],
   "source": [
    "##DAY4"
   ]
  },
  {
   "cell_type": "code",
   "execution_count": 4,
   "id": "81cd7303-ce8c-4cb7-b7e2-1a23f238e924",
   "metadata": {},
   "outputs": [
    {
     "name": "stdout",
     "output_type": "stream",
     "text": [
      "{'a': 1, 'b': 2, 'c': 3}\n",
      "<class 'dict'>\n"
     ]
    }
   ],
   "source": [
    "d1 = {\"a\" : 1, \"b\" : 2, \"c\" : 3}\n",
    "print(d1)\n",
    "print(type(d1))"
   ]
  },
  {
   "cell_type": "code",
   "execution_count": 6,
   "id": "6ec6854c-2efe-4394-a983-ee2d9b0e1d47",
   "metadata": {},
   "outputs": [
    {
     "name": "stdout",
     "output_type": "stream",
     "text": [
      "{'A': 10, 'B': 20, 'C': 30}\n"
     ]
    }
   ],
   "source": [
    "#cerate dictinary with dict() constructor\n",
    "d2 = dict(A=10, B=20, C=30)\n",
    "print(d2)"
   ]
  },
  {
   "cell_type": "code",
   "execution_count": 8,
   "id": "b481b220-916e-420a-86d7-b89751a7fb94",
   "metadata": {},
   "outputs": [
    {
     "name": "stdout",
     "output_type": "stream",
     "text": [
      "{'x': 1, 'y': 2, 'z': 3}\n"
     ]
    }
   ],
   "source": [
    "#create dictionary with a list of tuples\n",
    "d3 = dict([(\"x\", 1),(\"y\", 2),(\"z\", 3)])\n",
    "print(d3)"
   ]
  },
  {
   "cell_type": "code",
   "execution_count": 10,
   "id": "cacd1e1e-6f54-48b2-aaed-6f91de9d89eb",
   "metadata": {},
   "outputs": [
    {
     "name": "stdout",
     "output_type": "stream",
     "text": [
      "dict_keys(['a', 'b', 'c'])\n",
      "dict_values([1, 2, 3])\n",
      "dict_items([('a', 1), ('b', 2), ('c', 3)])\n"
     ]
    }
   ],
   "source": [
    "#Prit keys, vallue and key:value pairs\n",
    "print(d1.keys())\n",
    "print(d1.values())\n",
    "print(d1.items())"
   ]
  },
  {
   "cell_type": "code",
   "execution_count": 12,
   "id": "22c3a298-4eeb-45a7-b1aa-95bb84bc0e37",
   "metadata": {},
   "outputs": [
    {
     "data": {
      "text/plain": [
       "['__class__',\n",
       " '__class_getitem__',\n",
       " '__contains__',\n",
       " '__delattr__',\n",
       " '__delitem__',\n",
       " '__dir__',\n",
       " '__doc__',\n",
       " '__eq__',\n",
       " '__format__',\n",
       " '__ge__',\n",
       " '__getattribute__',\n",
       " '__getitem__',\n",
       " '__getstate__',\n",
       " '__gt__',\n",
       " '__hash__',\n",
       " '__init__',\n",
       " '__init_subclass__',\n",
       " '__ior__',\n",
       " '__iter__',\n",
       " '__le__',\n",
       " '__len__',\n",
       " '__lt__',\n",
       " '__ne__',\n",
       " '__new__',\n",
       " '__or__',\n",
       " '__reduce__',\n",
       " '__reduce_ex__',\n",
       " '__repr__',\n",
       " '__reversed__',\n",
       " '__ror__',\n",
       " '__setattr__',\n",
       " '__setitem__',\n",
       " '__sizeof__',\n",
       " '__str__',\n",
       " '__subclasshook__',\n",
       " 'clear',\n",
       " 'copy',\n",
       " 'fromkeys',\n",
       " 'get',\n",
       " 'items',\n",
       " 'keys',\n",
       " 'pop',\n",
       " 'popitem',\n",
       " 'setdefault',\n",
       " 'update',\n",
       " 'values']"
      ]
     },
     "execution_count": 12,
     "metadata": {},
     "output_type": "execute_result"
    }
   ],
   "source": [
    "dir(dict)"
   ]
  },
  {
   "cell_type": "code",
   "execution_count": 20,
   "id": "abeab75e-6b38-4a9e-94af-275b4c2db35c",
   "metadata": {},
   "outputs": [
    {
     "data": {
      "text/plain": [
       "{'Virat': 90,\n",
       " 'Rohit': 100,\n",
       " 'Rahul': 70,\n",
       " 'Hardhik': 9,\n",
       " 'Gill': 20,\n",
       " 'Jadeja': 30,\n",
       " 'Siraz': 89}"
      ]
     },
     "execution_count": 20,
     "metadata": {},
     "output_type": "execute_result"
    }
   ],
   "source": [
    "scores = {'Virat': 90, 'Rohit': 100, 'Rahul': 70, 'Hardhik': 9, 'Gill': 20, 'Jadeja': 30,'Siraz': 89}\n",
    "scores"
   ]
  },
  {
   "cell_type": "code",
   "execution_count": 35,
   "id": "038611c4-f356-4de1-b882-df5852d768f2",
   "metadata": {},
   "outputs": [
    {
     "data": {
      "text/plain": [
       "{'Virat': 90,\n",
       " 'Rohit': 100,\n",
       " 'Rahul': 70,\n",
       " 'Hardhik': 56,\n",
       " 'Gill': 20,\n",
       " 'Jadeja': 50,\n",
       " 'Siraz': 89,\n",
       " 'Siraj': 23,\n",
       " 'Rahane': 43}"
      ]
     },
     "execution_count": 35,
     "metadata": {},
     "output_type": "execute_result"
    }
   ],
   "source": [
    "scores[\"Rahane\"] = 43\n",
    "scores"
   ]
  },
  {
   "cell_type": "markdown",
   "id": "0111883c-64d3-4e44-95cf-3d00a6551dd8",
   "metadata": {},
   "source": [
    "#### Update Jadeja scores as Jadeja :50 using update() method"
   ]
  },
  {
   "cell_type": "code",
   "execution_count": 38,
   "id": "187c28fd-b36c-45e6-b241-75b9099b0e82",
   "metadata": {},
   "outputs": [
    {
     "data": {
      "text/plain": [
       "{'Virat': 90,\n",
       " 'Rohit': 100,\n",
       " 'Rahul': 70,\n",
       " 'Hardhik': 56,\n",
       " 'Gill': 20,\n",
       " 'Jadeja': 50,\n",
       " 'Siraz': 89,\n",
       " 'Siraj': 23,\n",
       " 'Rahane': 43}"
      ]
     },
     "execution_count": 38,
     "metadata": {},
     "output_type": "execute_result"
    }
   ],
   "source": [
    "scores.update({'Jadeja':50})\n",
    "scores"
   ]
  },
  {
   "cell_type": "code",
   "execution_count": 42,
   "id": "c674ae99-4601-40f2-86cf-ce87399256b1",
   "metadata": {},
   "outputs": [
    {
     "data": {
      "text/plain": [
       "{'Virat': 90,\n",
       " 'Rohit': 100,\n",
       " 'Rahul': 70,\n",
       " 'Hardhik': 56,\n",
       " 'Gill': 20,\n",
       " 'Jadeja': 50,\n",
       " 'Siraz': 89,\n",
       " 'Siraj': 23,\n",
       " 'Rahane': 63}"
      ]
     },
     "execution_count": 42,
     "metadata": {},
     "output_type": "execute_result"
    }
   ],
   "source": [
    "scores.update({\"Hardhik\":56, \"Rahane\":63})\n",
    "scores"
   ]
  },
  {
   "cell_type": "code",
   "execution_count": 48,
   "id": "6b35c4b2-f4df-4cee-873f-918283badf9a",
   "metadata": {},
   "outputs": [
    {
     "data": {
      "text/plain": [
       "{'Virat': 90,\n",
       " 'Rohit': 100,\n",
       " 'Rahul': 70,\n",
       " 'Hardhik': 56,\n",
       " 'Gill': 20,\n",
       " 'Jadeja': 50,\n",
       " 'Siraz': 89,\n",
       " 'Siraj': 23,\n",
       " 'Rahane': 63}"
      ]
     },
     "execution_count": 48,
     "metadata": {},
     "output_type": "execute_result"
    }
   ],
   "source": [
    "scores.setdefault(\"Rahul\",60)\n",
    "scores #setdefault will taKe only one pair and it ignore the key value if the key is already present it will not update\n",
    "#it will add if the key is not present "
   ]
  },
  {
   "cell_type": "code",
   "execution_count": 50,
   "id": "84ffe66f-b00f-499e-8859-4db5efb56290",
   "metadata": {},
   "outputs": [
    {
     "data": {
      "text/plain": [
       "{'Virat': 90,\n",
       " 'Rohit': 100,\n",
       " 'Rahul': 70,\n",
       " 'Hardhik': 56,\n",
       " 'Gill': 20,\n",
       " 'Jadeja': 50,\n",
       " 'Siraz': 89,\n",
       " 'Siraj': 23,\n",
       " 'Rahane': 63,\n",
       " 'Pujara': 60}"
      ]
     },
     "execution_count": 50,
     "metadata": {},
     "output_type": "execute_result"
    }
   ],
   "source": [
    "scores.setdefault(\"Pujara\",60)\n",
    "scores "
   ]
  },
  {
   "cell_type": "code",
   "execution_count": 52,
   "id": "c6f1916f-86b1-49be-ba10-0aafbccb83ef",
   "metadata": {},
   "outputs": [],
   "source": [
    "####Pop item"
   ]
  },
  {
   "cell_type": "code",
   "execution_count": 54,
   "id": "a670e6e1-63a0-4e8f-b2bb-af3ab0e9a620",
   "metadata": {},
   "outputs": [
    {
     "data": {
      "text/plain": [
       "{'Virat': 90,\n",
       " 'Rohit': 100,\n",
       " 'Rahul': 70,\n",
       " 'Hardhik': 56,\n",
       " 'Gill': 20,\n",
       " 'Jadeja': 50,\n",
       " 'Siraz': 89,\n",
       " 'Siraj': 23,\n",
       " 'Rahane': 63}"
      ]
     },
     "execution_count": 54,
     "metadata": {},
     "output_type": "execute_result"
    }
   ],
   "source": [
    "scores.popitem()\n",
    "scores #it popitem and delet the key \n",
    "#how to remove element from the dictonary? ->popitem() ->pop(key)\n"
   ]
  },
  {
   "cell_type": "code",
   "execution_count": 56,
   "id": "e3cc8490-f902-4a41-aee1-ea5f014ac02e",
   "metadata": {},
   "outputs": [
    {
     "data": {
      "text/plain": [
       "{'Virat': 90,\n",
       " 'Rohit': 100,\n",
       " 'Rahul': 70,\n",
       " 'Hardhik': 56,\n",
       " 'Jadeja': 50,\n",
       " 'Siraz': 89,\n",
       " 'Siraj': 23,\n",
       " 'Rahane': 63}"
      ]
     },
     "execution_count": 56,
     "metadata": {},
     "output_type": "execute_result"
    }
   ],
   "source": [
    "scores.pop(\"Gill\")\n",
    "scores"
   ]
  },
  {
   "cell_type": "code",
   "execution_count": 60,
   "id": "f8900374-2f1e-40d9-93e6-a8287cd44f0d",
   "metadata": {},
   "outputs": [
    {
     "data": {
      "text/plain": [
       "89"
      ]
     },
     "execution_count": 60,
     "metadata": {},
     "output_type": "execute_result"
    }
   ],
   "source": [
    "#GET FUCTION \n",
    "scores.get(\"Siraz\") #used to retrive a key values "
   ]
  },
  {
   "cell_type": "code",
   "execution_count": 72,
   "id": "c1edd40f-093e-4a39-b483-19c4d28a60a8",
   "metadata": {},
   "outputs": [
    {
     "data": {
      "text/plain": [
       "{'A': 89, 'B': 89, 'C': 89, 'D': 89}"
      ]
     },
     "execution_count": 72,
     "metadata": {},
     "output_type": "execute_result"
    }
   ],
   "source": [
    "#use of fromkeys(0 to create a new dict \n",
    "list1 = [\"A\",\"B\",\"C\",\"D\"]#creating dictionary from a given list of keys \n",
    "my_dict = dict.fromkeys(list1,89)\n",
    "my_dict"
   ]
  },
  {
   "cell_type": "code",
   "execution_count": 74,
   "id": "e2b05df9-1b17-469f-87d3-62ef9f9e100f",
   "metadata": {},
   "outputs": [
    {
     "data": {
      "text/plain": [
       "{'A': 18, 'B': 15, 'C': 89, 'D': 89}"
      ]
     },
     "execution_count": 74,
     "metadata": {},
     "output_type": "execute_result"
    }
   ],
   "source": [
    "my_dict.update({\"A\":18,\"B\":15})\n",
    "my_dict"
   ]
  },
  {
   "cell_type": "markdown",
   "id": "9e2df061-7a4c-4392-83ca-89566b69fbe3",
   "metadata": {},
   "source": [
    "#### Add to scores another score Siraz:15 using setdefault"
   ]
  },
  {
   "cell_type": "code",
   "execution_count": null,
   "id": "a152bfbe-a252-496c-8e39-d14933eb33e8",
   "metadata": {},
   "outputs": [],
   "source": []
  }
 ],
 "metadata": {
  "kernelspec": {
   "display_name": "Python [conda env:base] *",
   "language": "python",
   "name": "conda-base-py"
  },
  "language_info": {
   "codemirror_mode": {
    "name": "ipython",
    "version": 3
   },
   "file_extension": ".py",
   "mimetype": "text/x-python",
   "name": "python",
   "nbconvert_exporter": "python",
   "pygments_lexer": "ipython3",
   "version": "3.12.7"
  }
 },
 "nbformat": 4,
 "nbformat_minor": 5
}
