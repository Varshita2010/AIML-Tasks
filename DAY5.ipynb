{
 "cells": [
  {
   "cell_type": "code",
   "execution_count": 2,
   "id": "b006a03a-d216-468e-80dc-d3b7074966b8",
   "metadata": {},
   "outputs": [],
   "source": [
    "lst1 = [1,8,9,0,10,20,78,8,8,8]"
   ]
  },
  {
   "cell_type": "code",
   "execution_count": null,
   "id": "99867352-5563-4b20-96ce-25963a12a9d8",
   "metadata": {},
   "outputs": [],
   "source": []
  },
  {
   "cell_type": "code",
   "execution_count": 4,
   "id": "2ab4d7bf-f24f-45c9-a572-f74e08d39ab3",
   "metadata": {},
   "outputs": [
    {
     "name": "stdout",
     "output_type": "stream",
     "text": [
      "{0, 1, 8, 9, 10, 78, 20}\n",
      "<class 'set'>\n"
     ]
    }
   ],
   "source": [
    "s2 = set(lst1)\n",
    "print(s2)\n",
    "print(type(s2))"
   ]
  },
  {
   "cell_type": "code",
   "execution_count": 6,
   "id": "d15cbc7b-6f4c-49f5-a465-2d3159c181a8",
   "metadata": {},
   "outputs": [
    {
     "data": {
      "text/plain": [
       "['__and__',\n",
       " '__class__',\n",
       " '__class_getitem__',\n",
       " '__contains__',\n",
       " '__delattr__',\n",
       " '__dir__',\n",
       " '__doc__',\n",
       " '__eq__',\n",
       " '__format__',\n",
       " '__ge__',\n",
       " '__getattribute__',\n",
       " '__getstate__',\n",
       " '__gt__',\n",
       " '__hash__',\n",
       " '__iand__',\n",
       " '__init__',\n",
       " '__init_subclass__',\n",
       " '__ior__',\n",
       " '__isub__',\n",
       " '__iter__',\n",
       " '__ixor__',\n",
       " '__le__',\n",
       " '__len__',\n",
       " '__lt__',\n",
       " '__ne__',\n",
       " '__new__',\n",
       " '__or__',\n",
       " '__rand__',\n",
       " '__reduce__',\n",
       " '__reduce_ex__',\n",
       " '__repr__',\n",
       " '__ror__',\n",
       " '__rsub__',\n",
       " '__rxor__',\n",
       " '__setattr__',\n",
       " '__sizeof__',\n",
       " '__str__',\n",
       " '__sub__',\n",
       " '__subclasshook__',\n",
       " '__xor__',\n",
       " 'add',\n",
       " 'clear',\n",
       " 'copy',\n",
       " 'difference',\n",
       " 'difference_update',\n",
       " 'discard',\n",
       " 'intersection',\n",
       " 'intersection_update',\n",
       " 'isdisjoint',\n",
       " 'issubset',\n",
       " 'issuperset',\n",
       " 'pop',\n",
       " 'remove',\n",
       " 'symmetric_difference',\n",
       " 'symmetric_difference_update',\n",
       " 'union',\n",
       " 'update']"
      ]
     },
     "execution_count": 6,
     "metadata": {},
     "output_type": "execute_result"
    }
   ],
   "source": [
    "## Set methods \n",
    "##Union operation ->intersection -> difference ->symmetric_difference\n",
    "dir(set)"
   ]
  },
  {
   "cell_type": "code",
   "execution_count": 8,
   "id": "f3b03489-f87a-4356-ab83-3e3ba4739e9a",
   "metadata": {},
   "outputs": [],
   "source": [
    "##Union operation using | operation \n",
    "s1 = {1,2,3,4}\n",
    "s2 = {3,4,5,6}"
   ]
  },
  {
   "cell_type": "code",
   "execution_count": 14,
   "id": "7da4db99-4a15-4e82-a732-dfe6ab463f73",
   "metadata": {},
   "outputs": [
    {
     "data": {
      "text/plain": [
       "{1, 2, 3, 4, 5, 6}"
      ]
     },
     "execution_count": 14,
     "metadata": {},
     "output_type": "execute_result"
    }
   ],
   "source": [
    "s1 | s2 #it combines the 2 sets with out repeating the values"
   ]
  },
  {
   "cell_type": "code",
   "execution_count": 16,
   "id": "9a472718-0575-46f4-9d13-ad24cbf57de1",
   "metadata": {},
   "outputs": [
    {
     "data": {
      "text/plain": [
       "{1, 2, 3, 4, 5, 6}"
      ]
     },
     "execution_count": 16,
     "metadata": {},
     "output_type": "execute_result"
    }
   ],
   "source": [
    "s1.union(s2)"
   ]
  },
  {
   "cell_type": "code",
   "execution_count": 18,
   "id": "4077c036-5772-4414-9d58-535d559aab99",
   "metadata": {},
   "outputs": [],
   "source": [
    "##Intersection using & operator\n",
    "s1 = {1,2,3,4}\n",
    "s2 = {3,4,5,6}"
   ]
  },
  {
   "cell_type": "code",
   "execution_count": 22,
   "id": "89901cc3-1580-412d-a712-76c1b892f8e1",
   "metadata": {},
   "outputs": [
    {
     "data": {
      "text/plain": [
       "{3, 4}"
      ]
     },
     "execution_count": 22,
     "metadata": {},
     "output_type": "execute_result"
    }
   ],
   "source": [
    "s1 & s2 #it gives the repeated values"
   ]
  },
  {
   "cell_type": "code",
   "execution_count": 24,
   "id": "9c160c4a-acb3-497f-b5d1-5ae76591f6b7",
   "metadata": {},
   "outputs": [
    {
     "data": {
      "text/plain": [
       "{3, 4}"
      ]
     },
     "execution_count": 24,
     "metadata": {},
     "output_type": "execute_result"
    }
   ],
   "source": [
    "s1.intersection(s2)"
   ]
  },
  {
   "cell_type": "code",
   "execution_count": 26,
   "id": "6bc06c45-8f83-4ddf-9026-90f993edc6db",
   "metadata": {},
   "outputs": [],
   "source": [
    "#Difference of two sets\n",
    "s1 = {2,3,5,6,7}\n",
    "s2  = {5,6,7}"
   ]
  },
  {
   "cell_type": "code",
   "execution_count": 30,
   "id": "a52b3a03-347d-4bc7-bfd0-14426033345d",
   "metadata": {},
   "outputs": [
    {
     "data": {
      "text/plain": [
       "{2, 3}"
      ]
     },
     "execution_count": 30,
     "metadata": {},
     "output_type": "execute_result"
    }
   ],
   "source": [
    "s1 - s2 #this operator removes the repeated values and gives the non-repeated values "
   ]
  },
  {
   "cell_type": "code",
   "execution_count": 34,
   "id": "215d7494-edef-4dcc-8c88-8bfe954555cb",
   "metadata": {},
   "outputs": [
    {
     "data": {
      "text/plain": [
       "set()"
      ]
     },
     "execution_count": 34,
     "metadata": {},
     "output_type": "execute_result"
    }
   ],
   "source": [
    "s2 - s1 #gives an emmpty set"
   ]
  },
  {
   "cell_type": "code",
   "execution_count": 38,
   "id": "f4009f15-db76-4955-b754-21df574c6b0e",
   "metadata": {},
   "outputs": [],
   "source": [
    "##Symmetric difference\n",
    "s1 = {1,2,3,4,5}\n",
    "s2 = {4,5,6,7,8}"
   ]
  },
  {
   "cell_type": "code",
   "execution_count": 42,
   "id": "0ebf9074-73bf-46f3-be02-0744badbf586",
   "metadata": {},
   "outputs": [
    {
     "data": {
      "text/plain": [
       "{1, 2, 3, 6, 7, 8}"
      ]
     },
     "execution_count": 42,
     "metadata": {},
     "output_type": "execute_result"
    }
   ],
   "source": [
    "s1.symmetric_difference(s2)#it wil show the non repeated values"
   ]
  },
  {
   "cell_type": "code",
   "execution_count": 44,
   "id": "e87e61f3-8d92-4c17-b32b-ec18294f1169",
   "metadata": {},
   "outputs": [
    {
     "data": {
      "text/plain": [
       "{1, 2, 3, 6, 7, 8}"
      ]
     },
     "execution_count": 44,
     "metadata": {},
     "output_type": "execute_result"
    }
   ],
   "source": [
    "s2.symmetric_difference(s1)"
   ]
  },
  {
   "cell_type": "markdown",
   "id": "ce417bab-0b33-4423-87b0-cdb56bc87ac7",
   "metadata": {},
   "source": [
    "#### STRINGS"
   ]
  },
  {
   "cell_type": "code",
   "execution_count": 49,
   "id": "62f858be-63ee-4d74-9904-178d93f7c7be",
   "metadata": {},
   "outputs": [],
   "source": [
    "str1 = \"Welcome to aiml class\"\n",
    "str2 = \"We started with python\"\n",
    "str3 = \"This is an awesome class\""
   ]
  },
  {
   "cell_type": "code",
   "execution_count": 51,
   "id": "5bf906da-5869-4146-8c79-41fe1ba48854",
   "metadata": {},
   "outputs": [
    {
     "name": "stdout",
     "output_type": "stream",
     "text": [
      "Welcome to aiml class\n",
      "We started with python\n",
      "This is an awesome class\n"
     ]
    }
   ],
   "source": [
    "print(str1)\n",
    "print(str2)\n",
    "print(str3)"
   ]
  },
  {
   "cell_type": "code",
   "execution_count": 53,
   "id": "7e306add-01f9-4626-b2e0-851d104d522c",
   "metadata": {},
   "outputs": [
    {
     "name": "stdout",
     "output_type": "stream",
     "text": [
      "<class 'str'>\n",
      "<class 'str'>\n",
      "<class 'str'>\n"
     ]
    }
   ],
   "source": [
    "print(type(str1))\n",
    "print(type(str2))\n",
    "print(type(str3))"
   ]
  },
  {
   "cell_type": "code",
   "execution_count": 73,
   "id": "645a75d3-b32e-45bb-9b06-8db29c69334b",
   "metadata": {},
   "outputs": [
    {
     "name": "stdout",
     "output_type": "stream",
     "text": [
      "he said,\"It's awesome!\"\n"
     ]
    }
   ],
   "source": [
    "str4 = '''he said,\"It's awesome!\"'''\n",
    "print(str4)"
   ]
  },
  {
   "cell_type": "code",
   "execution_count": 77,
   "id": "0a9e7588-55af-49b5-b16e-44bab9b76e7c",
   "metadata": {},
   "outputs": [
    {
     "name": "stdout",
     "output_type": "stream",
     "text": [
      "Welcome to aiml class\n"
     ]
    },
    {
     "data": {
      "text/plain": [
       "'me to'"
      ]
     },
     "execution_count": 77,
     "metadata": {},
     "output_type": "execute_result"
    }
   ],
   "source": [
    "#Slicing in strings\n",
    "print(str1)\n",
    "str1[5:10] #it will print from the given indexing and and too the limit we give "
   ]
  },
  {
   "cell_type": "code",
   "execution_count": 85,
   "id": "24dbe724-e217-460c-9a87-c2791d7cf90e",
   "metadata": {},
   "outputs": [
    {
     "data": {
      "text/plain": [
       "'me to ai'"
      ]
     },
     "execution_count": 85,
     "metadata": {},
     "output_type": "execute_result"
    }
   ],
   "source": [
    "#it also alow reverse indexing \n",
    "str1[5:-8]"
   ]
  },
  {
   "cell_type": "code",
   "execution_count": 89,
   "id": "d52896b5-03c7-4d11-8805-beff23d3f3cd",
   "metadata": {},
   "outputs": [
    {
     "data": {
      "text/plain": [
       "['__add__',\n",
       " '__class__',\n",
       " '__contains__',\n",
       " '__delattr__',\n",
       " '__dir__',\n",
       " '__doc__',\n",
       " '__eq__',\n",
       " '__format__',\n",
       " '__ge__',\n",
       " '__getattribute__',\n",
       " '__getitem__',\n",
       " '__getnewargs__',\n",
       " '__getstate__',\n",
       " '__gt__',\n",
       " '__hash__',\n",
       " '__init__',\n",
       " '__init_subclass__',\n",
       " '__iter__',\n",
       " '__le__',\n",
       " '__len__',\n",
       " '__lt__',\n",
       " '__mod__',\n",
       " '__mul__',\n",
       " '__ne__',\n",
       " '__new__',\n",
       " '__reduce__',\n",
       " '__reduce_ex__',\n",
       " '__repr__',\n",
       " '__rmod__',\n",
       " '__rmul__',\n",
       " '__setattr__',\n",
       " '__sizeof__',\n",
       " '__str__',\n",
       " '__subclasshook__',\n",
       " 'capitalize',\n",
       " 'casefold',\n",
       " 'center',\n",
       " 'count',\n",
       " 'encode',\n",
       " 'endswith',\n",
       " 'expandtabs',\n",
       " 'find',\n",
       " 'format',\n",
       " 'format_map',\n",
       " 'index',\n",
       " 'isalnum',\n",
       " 'isalpha',\n",
       " 'isascii',\n",
       " 'isdecimal',\n",
       " 'isdigit',\n",
       " 'isidentifier',\n",
       " 'islower',\n",
       " 'isnumeric',\n",
       " 'isprintable',\n",
       " 'isspace',\n",
       " 'istitle',\n",
       " 'isupper',\n",
       " 'join',\n",
       " 'ljust',\n",
       " 'lower',\n",
       " 'lstrip',\n",
       " 'maketrans',\n",
       " 'partition',\n",
       " 'removeprefix',\n",
       " 'removesuffix',\n",
       " 'replace',\n",
       " 'rfind',\n",
       " 'rindex',\n",
       " 'rjust',\n",
       " 'rpartition',\n",
       " 'rsplit',\n",
       " 'rstrip',\n",
       " 'split',\n",
       " 'splitlines',\n",
       " 'startswith',\n",
       " 'strip',\n",
       " 'swapcase',\n",
       " 'title',\n",
       " 'translate',\n",
       " 'upper',\n",
       " 'zfill']"
      ]
     },
     "execution_count": 89,
     "metadata": {},
     "output_type": "execute_result"
    }
   ],
   "source": [
    "dir(str) #prints the directory of string "
   ]
  },
  {
   "cell_type": "code",
   "execution_count": 95,
   "id": "839e6f3a-29fe-48ba-9aa0-57f132ec1689",
   "metadata": {},
   "outputs": [
    {
     "name": "stdout",
     "output_type": "stream",
     "text": [
      "Welcome to aiml class\n"
     ]
    },
    {
     "data": {
      "text/plain": [
       "['Welcome', 'to', 'aiml', 'class']"
      ]
     },
     "execution_count": 95,
     "metadata": {},
     "output_type": "execute_result"
    }
   ],
   "source": [
    "#Use of split()\n",
    "print(str1)\n",
    "str1.split() #it gives the list of word tokens,these token method is used in machine learning while analysing the sentence "
   ]
  },
  {
   "cell_type": "code",
   "execution_count": 99,
   "id": "e844f3f6-f784-4f11-96ca-939a42242ea4",
   "metadata": {},
   "outputs": [
    {
     "data": {
      "text/plain": [
       "'The product is awesome Great Service'"
      ]
     },
     "execution_count": 99,
     "metadata": {},
     "output_type": "execute_result"
    }
   ],
   "source": [
    "#Use of join method in strings\n",
    "reviews = [\"The product is awesome\",\"Great Service\"]\n",
    "joined_string = ' '.join(reviews)\n",
    "joined_string"
   ]
  },
  {
   "cell_type": "code",
   "execution_count": 107,
   "id": "3019d515-3898-4b20-83f1-be5acf041900",
   "metadata": {},
   "outputs": [
    {
     "data": {
      "text/plain": [
       "'    Hello,  Spoorthi How are you?  '"
      ]
     },
     "execution_count": 107,
     "metadata": {},
     "output_type": "execute_result"
    }
   ],
   "source": [
    "#Use of strip() method \n",
    "str5 = \"    Hello,  Spoorthi How are you?  \"\n",
    "str5"
   ]
  },
  {
   "cell_type": "code",
   "execution_count": 109,
   "id": "a4084b01-b9bd-47bc-bbd6-610e7898cec5",
   "metadata": {},
   "outputs": [
    {
     "data": {
      "text/plain": [
       "'Hello,  Spoorthi How are you?'"
      ]
     },
     "execution_count": 109,
     "metadata": {},
     "output_type": "execute_result"
    }
   ],
   "source": [
    "#removes empty character spaces\n",
    "str5.strip()"
   ]
  },
  {
   "cell_type": "code",
   "execution_count": 111,
   "id": "f58e8798-dc0b-49ca-af12-d64d9f4e7034",
   "metadata": {},
   "outputs": [],
   "source": [
    "# Example dictionary for product sales analysis\n",
    "sales_data = {\n",
    "    \"ProductID\": [101, 102, 103, 104, 105, 106, 107, 108, 109, 110],\n",
    "    \"ProductName\": [\"Laptop\", \"Mouse\", \"Keyboard\", \"Monitor\", \"Chair\", \"Desk\", \"Webcam\", \"Headphones\", \"Printer\", \"Tablet\"],\n",
    "    \"Category\": [\"Electronics\", \"Accessories\", \"Accessories\", \"Electronics\", \"Furniture\", \"Furniture\", \"Electronics\", \"Accessories\", \"Electronics\", \"Electronics\"],\n",
    "    \"PriceRange\": [\"High\", \"Low\", \"Low\", \"Medium\", \"Medium\", \"Medium\", \"Low\", \"Low\", \"Medium\", \"High\"],\n",
    "    \"StockAvailable\": [15, 100, 75, 20, 10, 8, 50, 60, 25, 12],\n",
    "}"
   ]
  },
  {
   "cell_type": "code",
   "execution_count": 113,
   "id": "11e23cff-53dc-47aa-b1b7-c7b1fd2960c3",
   "metadata": {},
   "outputs": [
    {
     "name": "stdout",
     "output_type": "stream",
     "text": [
      "ProductID {101, 102, 103, 104, 105, 106, 107, 108, 109, 110},/n\n",
      "ProductName {'Keyboard', 'Chair', 'Printer', 'Tablet', 'Monitor', 'Webcam', 'Laptop', 'Mouse', 'Desk', 'Headphones'},/n\n",
      "Category {'Furniture', 'Electronics', 'Accessories'},/n\n",
      "PriceRange {'Medium', 'Low', 'High'},/n\n",
      "StockAvailable {100, 8, 10, 75, 12, 15, 50, 20, 25, 60},/n\n"
     ]
    }
   ],
   "source": [
    "for k,v in sales_data.items():\n",
    "    print(k,set(v), end =',')\n",
    "    print('/n')"
   ]
  },
  {
   "cell_type": "markdown",
   "id": "e56b923e-599f-438d-b426-7cdc1451cfd1",
   "metadata": {},
   "source": [
    "#### Industry use case data on review analysis,Example 2"
   ]
  },
  {
   "cell_type": "code",
   "execution_count": 124,
   "id": "9ae930a3-3c5b-4b94-81bb-ccd913017817",
   "metadata": {},
   "outputs": [
    {
     "data": {
      "text/plain": [
       "{'Review1': {'WordCount': 14,\n",
       "  'UniqueWords': ['was',\n",
       "   'quality',\n",
       "   'is',\n",
       "   'delivery',\n",
       "   'and',\n",
       "   'versatile',\n",
       "   'prompt',\n",
       "   'the',\n",
       "   'excellent',\n",
       "   'functionality',\n",
       "   'product']},\n",
       " 'Review2': {'WordCount': 15,\n",
       "  'UniqueWords': ['have',\n",
       "   'packaging',\n",
       "   'service',\n",
       "   'could',\n",
       "   'good',\n",
       "   'to',\n",
       "   'but',\n",
       "   'customer',\n",
       "   'the',\n",
       "   'improve',\n",
       "   'has',\n",
       "   'better',\n",
       "   'been']},\n",
       " 'Review3': {'WordCount': 18,\n",
       "  'UniqueWords': ['rate',\n",
       "   'works',\n",
       "   'is',\n",
       "   'support',\n",
       "   'but',\n",
       "   'customer',\n",
       "   'i',\n",
       "   'not',\n",
       "   'as',\n",
       "   'fine',\n",
       "   'the',\n",
       "   'very',\n",
       "   'helpful',\n",
       "   'excellent',\n",
       "   'product']}}"
      ]
     },
     "execution_count": 124,
     "metadata": {},
     "output_type": "execute_result"
    }
   ],
   "source": [
    "# Original reviews dictionary\n",
    "reviews = {\n",
    "    \"Review1\": \"The product quality is excellent and delivery was prompt. The product functionality is versatile\",\n",
    "    \"Review2\": \"Good service but the packaging could have been better. The customer service has to improve\",\n",
    "    \"Review3\": \"The product works fine, but the customer support is not very helpful. I rate the product as excellent\",\n",
    "}\n",
    "\n",
    "# Result dictionary to store analysis of reviews\n",
    "review_analysis = {}\n",
    "\n",
    "# Process each review\n",
    "for key, review in reviews.items():\n",
    "    # Split the review into words\n",
    "    words = review.lower().replace('.', '').replace(',', '').split()\n",
    "    # Create a sub-dictionary with word count and unique words\n",
    "    review_analysis[key] = {\n",
    "        \"WordCount\": len(words),\n",
    "        \"UniqueWords\": list(set(words))\n",
    "    }\n",
    "\n",
    "review_analysis\n"
   ]
  },
  {
   "cell_type": "code",
   "execution_count": 136,
   "id": "f165f7fe-011c-4416-9725-428967c789e2",
   "metadata": {},
   "outputs": [
    {
     "name": "stdout",
     "output_type": "stream",
     "text": [
      "Ram\n",
      "Shyam\n",
      "Ramya\n"
     ]
    }
   ],
   "source": [
    "#Exampel dictionary \n",
    "d1 = {\"Ram\": 180, \"Shyam\": 170, \"Ramya\" : 176}\n",
    "#proccesing of writing the for loop\n",
    "for k in d1.keys(): #for printing keys\n",
    "    print(k)"
   ]
  },
  {
   "cell_type": "code",
   "execution_count": 138,
   "id": "1c4283e3-573f-4add-8046-641d079b7ceb",
   "metadata": {},
   "outputs": [
    {
     "name": "stdout",
     "output_type": "stream",
     "text": [
      "180\n",
      "170\n",
      "176\n"
     ]
    }
   ],
   "source": [
    "for v in d1.values(): #printing values \n",
    "    print(v)"
   ]
  },
  {
   "cell_type": "code",
   "execution_count": 140,
   "id": "d4efbb1f-23ab-48a8-9ab6-1a3b53c968d9",
   "metadata": {},
   "outputs": [
    {
     "name": "stdout",
     "output_type": "stream",
     "text": [
      "Ram 180\n",
      "Shyam 170\n",
      "Ramya 176\n"
     ]
    }
   ],
   "source": [
    "for k,v in d1.items():\n",
    "    print(k,v) #for printing both the values and keys together"
   ]
  },
  {
   "cell_type": "code",
   "execution_count": 144,
   "id": "363bdfa6-807b-4779-9b3b-b56b9da73ec4",
   "metadata": {},
   "outputs": [
    {
     "data": {
      "text/plain": [
       "{'Ram': 180, 'Shyam': 170, 'Ramya': 176, 'John': 165}"
      ]
     },
     "execution_count": 144,
     "metadata": {},
     "output_type": "execute_result"
    }
   ],
   "source": [
    " d1[\"John\"] = 165\n",
    "d1 #adding the new key and value "
   ]
  },
  {
   "cell_type": "code",
   "execution_count": null,
   "id": "a32dd03a-a503-44a3-96dc-9a8fa542ff33",
   "metadata": {},
   "outputs": [],
   "source": []
  }
 ],
 "metadata": {
  "kernelspec": {
   "display_name": "Python [conda env:base] *",
   "language": "python",
   "name": "conda-base-py"
  },
  "language_info": {
   "codemirror_mode": {
    "name": "ipython",
    "version": 3
   },
   "file_extension": ".py",
   "mimetype": "text/x-python",
   "name": "python",
   "nbconvert_exporter": "python",
   "pygments_lexer": "ipython3",
   "version": "3.12.7"
  }
 },
 "nbformat": 4,
 "nbformat_minor": 5
}
