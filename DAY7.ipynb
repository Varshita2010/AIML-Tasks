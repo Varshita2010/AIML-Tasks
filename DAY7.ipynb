{
 "cells": [
  {
   "cell_type": "code",
   "execution_count": 14,
   "id": "e55141e4-ab42-4a8c-b338-d88c48d4e511",
   "metadata": {},
   "outputs": [],
   "source": [
    "#contiunation of functions \n",
    "#Functions with Variable number of arguments\n",
    "def avg_value(*n): #\n",
    "    l = len(n)\n",
    "    average = sum(n)/l\n",
    "    return average"
   ]
  },
  {
   "cell_type": "code",
   "execution_count": 16,
   "id": "7743bef6-1a35-4a3a-ac74-7c5599d281b1",
   "metadata": {},
   "outputs": [
    {
     "data": {
      "text/plain": [
       "14427.142857142857"
      ]
     },
     "execution_count": 16,
     "metadata": {},
     "output_type": "execute_result"
    }
   ],
   "source": [
    "avg_value(10,20,30,40,800,90,100000) #it will be treated as tupple "
   ]
  },
  {
   "cell_type": "markdown",
   "id": "6206c483-b1fb-4d23-af29-3ff4900dba3a",
   "metadata": {},
   "source": [
    "#### Lamda Function \n",
    "short way of writing user defined function \n",
    "->Syntax : function_name = lambda x : exp"
   ]
  },
  {
   "cell_type": "code",
   "execution_count": 24,
   "id": "38a58cb0-0b00-483a-9f2b-a611e55e1cbc",
   "metadata": {},
   "outputs": [],
   "source": [
    "greet = lambda name : print(f\"Good Morning {name}!\")"
   ]
  },
  {
   "cell_type": "code",
   "execution_count": 26,
   "id": "18c43bbc-96ee-4c85-8352-82254903cd0e",
   "metadata": {},
   "outputs": [
    {
     "name": "stdout",
     "output_type": "stream",
     "text": [
      "Good Morning Varshita!\n"
     ]
    }
   ],
   "source": [
    "greet(\"Varshita\")"
   ]
  },
  {
   "cell_type": "code",
   "execution_count": 28,
   "id": "e93c955b-25f2-4fe9-b661-cd8208719145",
   "metadata": {},
   "outputs": [],
   "source": [
    "#write a lambda function to print the product of three numbers \n",
    "product = lambda a,b,c : a*b*c"
   ]
  },
  {
   "cell_type": "code",
   "execution_count": 30,
   "id": "962dbb12-765b-492c-81b6-16e9b9124eef",
   "metadata": {},
   "outputs": [
    {
     "data": {
      "text/plain": [
       "48000"
      ]
     },
     "execution_count": 30,
     "metadata": {},
     "output_type": "execute_result"
    }
   ],
   "source": [
    "product(20,40,60)"
   ]
  },
  {
   "cell_type": "code",
   "execution_count": 34,
   "id": "80e6aa9b-f862-422a-858e-b08683d04f1f",
   "metadata": {},
   "outputs": [],
   "source": [
    "#lambda function with list comprehension \n",
    "even = lambda l : [x for x in l if x%2 == 0 ]"
   ]
  },
  {
   "cell_type": "code",
   "execution_count": 36,
   "id": "719c5469-61ac-4aaa-861e-92df209c85a2",
   "metadata": {},
   "outputs": [
    {
     "data": {
      "text/plain": [
       "[100, 20, 44, 48]"
      ]
     },
     "execution_count": 36,
     "metadata": {},
     "output_type": "execute_result"
    }
   ],
   "source": [
    "my_list = [100,20,44,53,48,69]\n",
    "even(my_list)"
   ]
  }
 ],
 "metadata": {
  "kernelspec": {
   "display_name": "Python [conda env:base] *",
   "language": "python",
   "name": "conda-base-py"
  },
  "language_info": {
   "codemirror_mode": {
    "name": "ipython",
    "version": 3
   },
   "file_extension": ".py",
   "mimetype": "text/x-python",
   "name": "python",
   "nbconvert_exporter": "python",
   "pygments_lexer": "ipython3",
   "version": "3.12.7"
  }
 },
 "nbformat": 4,
 "nbformat_minor": 5
}
