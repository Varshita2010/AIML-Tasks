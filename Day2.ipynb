{
 "cells": [
  {
   "cell_type": "markdown",
   "id": "cd9e2fba-70a5-47be-8c8c-471c25d5cd4c",
   "metadata": {},
   "source": [
    "##DAY2"
   ]
  },
  {
   "cell_type": "code",
   "execution_count": 2,
   "id": "9d8f75c4-209e-430f-bbaf-510ef1dde5f1",
   "metadata": {},
   "outputs": [
    {
     "name": "stdout",
     "output_type": "stream",
     "text": [
      "20\n",
      "[20, 30]\n",
      "[20, 30, 40, 50]\n",
      "[10, 20, 30]\n",
      "[10, 20, 30, 40, 50]\n"
     ]
    }
   ],
   "source": [
    "#Heterogenous Elemenets\n",
    "my_list = [10,20,30,40,50]\n",
    "print(my_list[1])\n",
    "print(my_list[1:3])\n",
    "print(my_list[1:])\n",
    "print(my_list[:3])\n",
    "print(my_list[:])"
   ]
  },
  {
   "cell_type": "code",
   "execution_count": 6,
   "id": "d1b37ea2-2a96-44f0-9a9d-7898d47ad45d",
   "metadata": {},
   "outputs": [
    {
     "name": "stdout",
     "output_type": "stream",
     "text": [
      "30\n",
      "60\n",
      "90\n",
      "120\n"
     ]
    }
   ],
   "source": [
    "my_list = [10,20,30,40]\n",
    "for item in my_list :\n",
    "    print(3*item)"
   ]
  },
  {
   "cell_type": "code",
   "execution_count": 25,
   "id": "49f4fb37-db72-418c-bfb0-7a991b62cf50",
   "metadata": {},
   "outputs": [
    {
     "name": "stdout",
     "output_type": "stream",
     "text": [
      "[10, 20, 30, 40, 50, 10, 20, 30, 40, 50]\n"
     ]
    }
   ],
   "source": [
    "my_list = [10,20,30,40,50]\n",
    "print(2*my_list)"
   ]
  },
  {
   "cell_type": "code",
   "execution_count": 27,
   "id": "827c080a-64d3-44fa-9b8d-cd0df02d566e",
   "metadata": {},
   "outputs": [
    {
     "name": "stdout",
     "output_type": "stream",
     "text": [
      "30\n",
      "60\n",
      "90\n",
      "120\n",
      "150\n"
     ]
    }
   ],
   "source": [
    "my_list = [10,20,30,40,50]\n",
    "for x in range(len(my_list)):\n",
    "    print(3*my_list[x])    "
   ]
  },
  {
   "cell_type": "code",
   "execution_count": null,
   "id": "23365923-dd0f-45e1-a65b-00247f420790",
   "metadata": {},
   "outputs": [],
   "source": []
  }
 ],
 "metadata": {
  "kernelspec": {
   "display_name": "Python [conda env:base] *",
   "language": "python",
   "name": "conda-base-py"
  },
  "language_info": {
   "codemirror_mode": {
    "name": "ipython",
    "version": 3
   },
   "file_extension": ".py",
   "mimetype": "text/x-python",
   "name": "python",
   "nbconvert_exporter": "python",
   "pygments_lexer": "ipython3",
   "version": "3.12.7"
  }
 },
 "nbformat": 4,
 "nbformat_minor": 5
}
