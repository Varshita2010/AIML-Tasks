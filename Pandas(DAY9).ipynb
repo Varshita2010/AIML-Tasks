{
 "cells": [
  {
   "cell_type": "markdown",
   "id": "0df3744c-47a6-440a-b837-db20a8fd593c",
   "metadata": {},
   "source": [
    "# Pandas\n",
    "### Important Features of pandas :-\n",
    "##### Supports datastructures \n",
    "##### Data cleaning : supports missing data with methods like fill\n",
    "##### Indexing and slicing : Offers robusst label-based and position based ind\n",
    "##### Data Aggregation : Includes built-iin function for group operations via\n",
    "##### Data Transformation : Facultates reshaping, pivoting of datasets \n",
    "##### Time Series Handling : Bulit-in suports for time-series data with date-ra\n",
    "##### Data Visualization : Integarte with Mathplotib for quick plotting of data \n",
    "##### File I/O : Suports reading and writing data in multiple formats, including \n"
   ]
  },
  {
   "cell_type": "markdown",
   "id": "d89f6b24-510a-487b-998a-e9245aa95e64",
   "metadata": {},
   "source": [
    "## CREATE PANDAS SERIES (it is size immuatble)"
   ]
  },
  {
   "cell_type": "code",
   "execution_count": 3,
   "id": "d670480b-c6d5-4224-a142-1e312f16b0b3",
   "metadata": {},
   "outputs": [],
   "source": [
    "#IMPORT PANDAS\n",
    "import pandas as pd"
   ]
  },
  {
   "cell_type": "code",
   "execution_count": 5,
   "id": "2003855e-c403-480e-8fc2-4e1e22fed5d5",
   "metadata": {},
   "outputs": [
    {
     "name": "stdout",
     "output_type": "stream",
     "text": [
      "0    10\n",
      "1    20\n",
      "2    30\n",
      "3    40\n",
      "dtype: int64\n"
     ]
    }
   ],
   "source": [
    "#create pandas series using list\n",
    "\n",
    "data = [10,20,30,40]\n",
    "series = pd.Series(data)\n",
    "print(series)"
   ]
  },
  {
   "cell_type": "code",
   "execution_count": 9,
   "id": "6f6c6efd-b7ac-4531-96a1-1ef88d153ed0",
   "metadata": {},
   "outputs": [
    {
     "name": "stdout",
     "output_type": "stream",
     "text": [
      "0    10.00\n",
      "1    20.00\n",
      "2    30.00\n",
      "3    40.22\n",
      "dtype: float64\n"
     ]
    }
   ],
   "source": [
    "#create pandas series using list\n",
    "\n",
    "data = [10,20,30,40.22]\n",
    "series = pd.Series(data)\n",
    "print(series)"
   ]
  },
  {
   "cell_type": "code",
   "execution_count": 12,
   "id": "f9a52a8c-f98c-486b-a9be-6d589ba9cb49",
   "metadata": {},
   "outputs": [
    {
     "name": "stdout",
     "output_type": "stream",
     "text": [
      "0    10\n",
      "1    20\n",
      "2    30\n",
      "3     A\n",
      "dtype: object\n"
     ]
    }
   ],
   "source": [
    "#create pandas series using list\n",
    "\n",
    "data = [10,20,30,\"A\"]\n",
    "series = pd.Series(data)\n",
    "print(series)"
   ]
  },
  {
   "cell_type": "code",
   "execution_count": 14,
   "id": "92a4f55b-5fbc-4d55-b839-cfa3507067b4",
   "metadata": {},
   "outputs": [
    {
     "name": "stdout",
     "output_type": "stream",
     "text": [
      "A    1\n",
      "B    2\n",
      "C    3\n",
      "D    4\n",
      "dtype: int64\n"
     ]
    }
   ],
   "source": [
    "##create a series using a custom index\n",
    "data = [1,2,3,4]\n",
    "i = ['A','B','C','D']\n",
    "series = pd.Series(data, index=i)\n",
    "print(series)"
   ]
  },
  {
   "cell_type": "code",
   "execution_count": 18,
   "id": "6b987694-853b-4093-b4c5-6453329f41bd",
   "metadata": {},
   "outputs": [
    {
     "data": {
      "text/plain": [
       "['ArrowDtype',\n",
       " 'BooleanDtype',\n",
       " 'Categorical',\n",
       " 'CategoricalDtype',\n",
       " 'CategoricalIndex',\n",
       " 'DataFrame',\n",
       " 'DateOffset',\n",
       " 'DatetimeIndex',\n",
       " 'DatetimeTZDtype',\n",
       " 'ExcelFile',\n",
       " 'ExcelWriter',\n",
       " 'Flags',\n",
       " 'Float32Dtype',\n",
       " 'Float64Dtype',\n",
       " 'Grouper',\n",
       " 'HDFStore',\n",
       " 'Index',\n",
       " 'IndexSlice',\n",
       " 'Int16Dtype',\n",
       " 'Int32Dtype',\n",
       " 'Int64Dtype',\n",
       " 'Int8Dtype',\n",
       " 'Interval',\n",
       " 'IntervalDtype',\n",
       " 'IntervalIndex',\n",
       " 'MultiIndex',\n",
       " 'NA',\n",
       " 'NaT',\n",
       " 'NamedAgg',\n",
       " 'Period',\n",
       " 'PeriodDtype',\n",
       " 'PeriodIndex',\n",
       " 'RangeIndex',\n",
       " 'Series',\n",
       " 'SparseDtype',\n",
       " 'StringDtype',\n",
       " 'Timedelta',\n",
       " 'TimedeltaIndex',\n",
       " 'Timestamp',\n",
       " 'UInt16Dtype',\n",
       " 'UInt32Dtype',\n",
       " 'UInt64Dtype',\n",
       " 'UInt8Dtype',\n",
       " '__all__',\n",
       " '__builtins__',\n",
       " '__cached__',\n",
       " '__doc__',\n",
       " '__docformat__',\n",
       " '__file__',\n",
       " '__git_version__',\n",
       " '__loader__',\n",
       " '__name__',\n",
       " '__package__',\n",
       " '__path__',\n",
       " '__spec__',\n",
       " '__version__',\n",
       " '_built_with_meson',\n",
       " '_config',\n",
       " '_is_numpy_dev',\n",
       " '_libs',\n",
       " '_pandas_datetime_CAPI',\n",
       " '_pandas_parser_CAPI',\n",
       " '_testing',\n",
       " '_typing',\n",
       " '_version_meson',\n",
       " 'annotations',\n",
       " 'api',\n",
       " 'array',\n",
       " 'arrays',\n",
       " 'bdate_range',\n",
       " 'compat',\n",
       " 'concat',\n",
       " 'core',\n",
       " 'crosstab',\n",
       " 'cut',\n",
       " 'date_range',\n",
       " 'describe_option',\n",
       " 'errors',\n",
       " 'eval',\n",
       " 'factorize',\n",
       " 'from_dummies',\n",
       " 'get_dummies',\n",
       " 'get_option',\n",
       " 'infer_freq',\n",
       " 'interval_range',\n",
       " 'io',\n",
       " 'isna',\n",
       " 'isnull',\n",
       " 'json_normalize',\n",
       " 'lreshape',\n",
       " 'melt',\n",
       " 'merge',\n",
       " 'merge_asof',\n",
       " 'merge_ordered',\n",
       " 'notna',\n",
       " 'notnull',\n",
       " 'offsets',\n",
       " 'option_context',\n",
       " 'options',\n",
       " 'pandas',\n",
       " 'period_range',\n",
       " 'pivot',\n",
       " 'pivot_table',\n",
       " 'plotting',\n",
       " 'qcut',\n",
       " 'read_clipboard',\n",
       " 'read_csv',\n",
       " 'read_excel',\n",
       " 'read_feather',\n",
       " 'read_fwf',\n",
       " 'read_gbq',\n",
       " 'read_hdf',\n",
       " 'read_html',\n",
       " 'read_json',\n",
       " 'read_orc',\n",
       " 'read_parquet',\n",
       " 'read_pickle',\n",
       " 'read_sas',\n",
       " 'read_spss',\n",
       " 'read_sql',\n",
       " 'read_sql_query',\n",
       " 'read_sql_table',\n",
       " 'read_stata',\n",
       " 'read_table',\n",
       " 'read_xml',\n",
       " 'reset_option',\n",
       " 'set_eng_float_format',\n",
       " 'set_option',\n",
       " 'show_versions',\n",
       " 'test',\n",
       " 'testing',\n",
       " 'timedelta_range',\n",
       " 'to_datetime',\n",
       " 'to_numeric',\n",
       " 'to_pickle',\n",
       " 'to_timedelta',\n",
       " 'tseries',\n",
       " 'unique',\n",
       " 'util',\n",
       " 'value_counts',\n",
       " 'wide_to_long']"
      ]
     },
     "execution_count": 18,
     "metadata": {},
     "output_type": "execute_result"
    }
   ],
   "source": [
    "dir(pd)"
   ]
  },
  {
   "cell_type": "code",
   "execution_count": 22,
   "id": "198e8978-de1a-43de-9a6a-d4b242362031",
   "metadata": {},
   "outputs": [
    {
     "name": "stdout",
     "output_type": "stream",
     "text": [
      "a    10\n",
      "b    20\n",
      "c    30\n",
      "dtype: int64\n"
     ]
    }
   ],
   "source": [
    "#CREATE PANDAS USING DICTIONARY \n",
    "data = {'a': 10, 'b': 20,'c': 30}\n",
    "series = pd.Series(data)\n",
    "print(series)"
   ]
  },
  {
   "cell_type": "code",
   "execution_count": 34,
   "id": "97224068-e842-4fea-a2b7-fa837c33d01a",
   "metadata": {},
   "outputs": [
    {
     "name": "stdout",
     "output_type": "stream",
     "text": [
      "a      10\n",
      "b      20\n",
      "c    Ammu\n",
      "dtype: object\n"
     ]
    }
   ],
   "source": [
    "#CREATE PANDAS USING DICTIONARY \n",
    "data = {'a': 10, 'b': 100,'c': 30} #series have replace method\n",
    "series.replace(20,100)\n",
    "print(series)"
   ]
  },
  {
   "cell_type": "code",
   "execution_count": 28,
   "id": "69b4445b-3032-4208-bd61-454ba94c6c7c",
   "metadata": {},
   "outputs": [
    {
     "name": "stdout",
     "output_type": "stream",
     "text": [
      "a      10\n",
      "b      20\n",
      "c    Ammu\n",
      "dtype: object\n"
     ]
    }
   ],
   "source": [
    "#CREATE PANDAS USING DICTIONARY \n",
    "data = {'a': 10, 'b': 20,'c': \"Ammu\"}\n",
    "series = pd.Series(data)\n",
    "print(series)"
   ]
  },
  {
   "cell_type": "code",
   "execution_count": 36,
   "id": "db2e8646-0a5f-4883-af9d-e6a3dd23c382",
   "metadata": {},
   "outputs": [
    {
     "name": "stdout",
     "output_type": "stream",
     "text": [
      "a     100\n",
      "b     300\n",
      "c    3000\n",
      "dtype: int32\n"
     ]
    }
   ],
   "source": [
    "#CREATE SERIES USING NUMPY ARRAY\n",
    "import numpy as np\n",
    "\n",
    "data = np.array([100,300,3000])\n",
    "series = pd.Series(data, index=['a','b','c'])\n",
    "print(series)"
   ]
  },
  {
   "cell_type": "markdown",
   "id": "0e317634-38b9-4439-96ae-33933cfce395",
   "metadata": {},
   "source": [
    "# PANDAS DATAFRAME"
   ]
  },
  {
   "cell_type": "code",
   "execution_count": 38,
   "id": "155f3a7f-7b0e-4d45-8918-4c2e7365a56f",
   "metadata": {},
   "outputs": [
    {
     "name": "stdout",
     "output_type": "stream",
     "text": [
      "    Name  Age Country\n",
      "0  Alice   25     USA\n",
      "1    Bob   15   PARIS\n",
      "2   Mary   10     AUS\n"
     ]
    }
   ],
   "source": [
    "#CREATE PANDAS DATAFRAME FROM DICTIONARY OF LISTS \n",
    "import pandas as pd\n",
    "\n",
    "data = {'Name':['Alice','Bob','Mary'], 'Age':[25,15,10],'Country':['USA','PARIS','AUS']}\n",
    "df = pd.DataFrame(data)\n",
    "print(df)"
   ]
  },
  {
   "cell_type": "code",
   "execution_count": 53,
   "id": "9e0dc637-56ec-4f24-840e-4dde7778d745",
   "metadata": {},
   "outputs": [
    {
     "name": "stdout",
     "output_type": "stream",
     "text": [
      "[[1 2 3]\n",
      " [4 5 6]\n",
      " [7 8 9]]\n",
      "   A  B  C\n",
      "0  1  2  3\n",
      "1  4  5  6\n",
      "2  7  8  9\n"
     ]
    }
   ],
   "source": [
    "#CREATE PANDAS DATAFRAME FROM NUMPY ARRAY \n",
    "import numpy as np\n",
    "\n",
    "array = np.array([[1,2,3],[4,5,6],[7,8,9]])\n",
    "print(array)\n",
    "df = pd.DataFrame(array, columns = ['A','B','C'])\n",
    "print(df)"
   ]
  },
  {
   "cell_type": "code",
   "execution_count": 55,
   "id": "8ceeba96-5a9d-41de-a8f5-956f6a7eb66c",
   "metadata": {},
   "outputs": [
    {
     "name": "stdout",
     "output_type": "stream",
     "text": [
      "[[1, 'Alice', 25], [2, 'Bob', 30], [3, 'Marry', 34]]\n",
      "   ID   Name  Age\n",
      "0   1  Alice   25\n",
      "1   2    Bob   30\n",
      "2   3  Marry   34\n"
     ]
    }
   ],
   "source": [
    "#CREATE A DATAAFRAME FROM A NESTED LIST\n",
    "data = [[1, 'Alice',25],[2,'Bob',30],[3,'Marry',34]]\n",
    "print(data)\n",
    "df = pd.DataFrame(data, columns = ['ID','Name','Age'])\n",
    "print(df)"
   ]
  },
  {
   "cell_type": "code",
   "execution_count": 59,
   "id": "9f0d37b0-760d-4fab-9f9d-328d6a80a987",
   "metadata": {},
   "outputs": [
    {
     "name": "stdout",
     "output_type": "stream",
     "text": [
      "     sepal.length  sepal.width  petal.length  petal.width    variety\n",
      "0             5.1          3.5           1.4          0.2     Setosa\n",
      "1             4.9          3.0           1.4          0.2     Setosa\n",
      "2             4.7          3.2           1.3          0.2     Setosa\n",
      "3             4.6          3.1           1.5          0.2     Setosa\n",
      "4             5.0          3.6           1.4          0.2     Setosa\n",
      "..            ...          ...           ...          ...        ...\n",
      "145           6.7          3.0           5.2          2.3  Virginica\n",
      "146           6.3          2.5           5.0          1.9  Virginica\n",
      "147           6.5          3.0           5.2          2.0  Virginica\n",
      "148           6.2          3.4           5.4          2.3  Virginica\n",
      "149           5.9          3.0           5.1          1.8  Virginica\n",
      "\n",
      "[150 rows x 5 columns]\n"
     ]
    }
   ],
   "source": [
    "#IMPORTING XL FILE TO NUMPY PANDAS \n",
    "iris_df = pd.read_csv(\"iris.csv\")\n",
    "print(iris_df)"
   ]
  },
  {
   "cell_type": "markdown",
   "id": "86725f0e-e065-4892-b3c7-cb8c5f18c506",
   "metadata": {},
   "source": [
    "RangeIndex(start=0, stop=150, step=1)"
   ]
  },
  {
   "cell_type": "code",
   "execution_count": 64,
   "id": "8281e0d0-316f-413f-bc1b-1be334db7fbd",
   "metadata": {},
   "outputs": [
    {
     "name": "stdout",
     "output_type": "stream",
     "text": [
      "     sepal.length  sepal.width  petal.length  petal.width    variety\n",
      "0             5.1          3.5           1.4          0.2     Setosa\n",
      "1             4.9          3.0           1.4          0.2     Setosa\n",
      "2             4.7          3.2           1.3          0.2     Setosa\n",
      "3             4.6          3.1           1.5          0.2     Setosa\n",
      "4             5.0          3.6           1.4          0.2     Setosa\n",
      "..            ...          ...           ...          ...        ...\n",
      "145           6.7          3.0           5.2          2.3  Virginica\n",
      "146           6.3          2.5           5.0          1.9  Virginica\n",
      "147           6.5          3.0           5.2          2.0  Virginica\n",
      "148           6.2          3.4           5.4          2.3  Virginica\n",
      "149           5.9          3.0           5.1          1.8  Virginica\n",
      "\n",
      "[150 rows x 5 columns]\n"
     ]
    }
   ],
   "source": [
    "#Import data frame from an excel file \n",
    "iris_df = pd.read_excel(\"iris.xlsx\")\n",
    "print(iris_df)"
   ]
  },
  {
   "cell_type": "code",
   "execution_count": null,
   "id": "04ed7dd7-9d64-4fa5-b259-e0dfbbca4657",
   "metadata": {},
   "outputs": [],
   "source": []
  }
 ],
 "metadata": {
  "kernelspec": {
   "display_name": "Python [conda env:base] *",
   "language": "python",
   "name": "conda-base-py"
  },
  "language_info": {
   "codemirror_mode": {
    "name": "ipython",
    "version": 3
   },
   "file_extension": ".py",
   "mimetype": "text/x-python",
   "name": "python",
   "nbconvert_exporter": "python",
   "pygments_lexer": "ipython3",
   "version": "3.12.7"
  }
 },
 "nbformat": 4,
 "nbformat_minor": 5
}
