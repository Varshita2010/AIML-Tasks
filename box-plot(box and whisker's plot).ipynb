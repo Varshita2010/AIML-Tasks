{
 "cells": [
  {
   "cell_type": "markdown",
   "id": "5220cf56-3f06-454a-9e5b-4ac782e5925c",
   "metadata": {},
   "source": [
    "# box-whisker's plot\n",
    "### ->gives information about:-\n",
    "###### -->Median\n",
    "###### -->Quartile 1\n",
    "###### -->Quartile 2 \n",
    "###### -->Quartile 3\n",
    "###### -->Outliers\n",
    "##### @percentile meand the percentage of people below your score\n",
    "##### @box plot and histogram are ment for continous data\n",
    "##### @we can know the extreme value of the plot "
   ]
  },
  {
   "cell_type": "code",
   "execution_count": 5,
   "id": "8fe43dab-1c96-4d3c-9814-43eabe45660a",
   "metadata": {},
   "outputs": [],
   "source": [
    "import pandas as pd\n",
    "import numpy as np "
   ]
  },
  {
   "cell_type": "code",
   "execution_count": 7,
   "id": "b51ca0c0-0460-45cd-a517-45d234975be8",
   "metadata": {},
   "outputs": [
    {
     "data": {
      "text/html": [
       "<div>\n",
       "<style scoped>\n",
       "    .dataframe tbody tr th:only-of-type {\n",
       "        vertical-align: middle;\n",
       "    }\n",
       "\n",
       "    .dataframe tbody tr th {\n",
       "        vertical-align: top;\n",
       "    }\n",
       "\n",
       "    .dataframe thead th {\n",
       "        text-align: right;\n",
       "    }\n",
       "</style>\n",
       "<table border=\"1\" class=\"dataframe\">\n",
       "  <thead>\n",
       "    <tr style=\"text-align: right;\">\n",
       "      <th></th>\n",
       "      <th>Univ</th>\n",
       "      <th>SAT</th>\n",
       "      <th>Top10</th>\n",
       "      <th>Accept</th>\n",
       "      <th>SFRatio</th>\n",
       "      <th>Expenses</th>\n",
       "      <th>GradRate</th>\n",
       "    </tr>\n",
       "  </thead>\n",
       "  <tbody>\n",
       "    <tr>\n",
       "      <th>0</th>\n",
       "      <td>Brown</td>\n",
       "      <td>1310</td>\n",
       "      <td>89</td>\n",
       "      <td>22</td>\n",
       "      <td>13</td>\n",
       "      <td>22704</td>\n",
       "      <td>94</td>\n",
       "    </tr>\n",
       "    <tr>\n",
       "      <th>1</th>\n",
       "      <td>CalTech</td>\n",
       "      <td>1415</td>\n",
       "      <td>100</td>\n",
       "      <td>25</td>\n",
       "      <td>6</td>\n",
       "      <td>63575</td>\n",
       "      <td>81</td>\n",
       "    </tr>\n",
       "    <tr>\n",
       "      <th>2</th>\n",
       "      <td>CMU</td>\n",
       "      <td>1260</td>\n",
       "      <td>62</td>\n",
       "      <td>59</td>\n",
       "      <td>9</td>\n",
       "      <td>25026</td>\n",
       "      <td>72</td>\n",
       "    </tr>\n",
       "    <tr>\n",
       "      <th>3</th>\n",
       "      <td>Columbia</td>\n",
       "      <td>1310</td>\n",
       "      <td>76</td>\n",
       "      <td>24</td>\n",
       "      <td>12</td>\n",
       "      <td>31510</td>\n",
       "      <td>88</td>\n",
       "    </tr>\n",
       "    <tr>\n",
       "      <th>4</th>\n",
       "      <td>Cornell</td>\n",
       "      <td>1280</td>\n",
       "      <td>83</td>\n",
       "      <td>33</td>\n",
       "      <td>13</td>\n",
       "      <td>21864</td>\n",
       "      <td>90</td>\n",
       "    </tr>\n",
       "    <tr>\n",
       "      <th>5</th>\n",
       "      <td>Dartmouth</td>\n",
       "      <td>1340</td>\n",
       "      <td>89</td>\n",
       "      <td>23</td>\n",
       "      <td>10</td>\n",
       "      <td>32162</td>\n",
       "      <td>95</td>\n",
       "    </tr>\n",
       "    <tr>\n",
       "      <th>6</th>\n",
       "      <td>Duke</td>\n",
       "      <td>1315</td>\n",
       "      <td>90</td>\n",
       "      <td>30</td>\n",
       "      <td>12</td>\n",
       "      <td>31585</td>\n",
       "      <td>95</td>\n",
       "    </tr>\n",
       "    <tr>\n",
       "      <th>7</th>\n",
       "      <td>Georgetown</td>\n",
       "      <td>1255</td>\n",
       "      <td>74</td>\n",
       "      <td>24</td>\n",
       "      <td>12</td>\n",
       "      <td>20126</td>\n",
       "      <td>92</td>\n",
       "    </tr>\n",
       "    <tr>\n",
       "      <th>8</th>\n",
       "      <td>Harvard</td>\n",
       "      <td>1400</td>\n",
       "      <td>91</td>\n",
       "      <td>14</td>\n",
       "      <td>11</td>\n",
       "      <td>39525</td>\n",
       "      <td>97</td>\n",
       "    </tr>\n",
       "    <tr>\n",
       "      <th>9</th>\n",
       "      <td>JohnsHopkins</td>\n",
       "      <td>1305</td>\n",
       "      <td>75</td>\n",
       "      <td>44</td>\n",
       "      <td>7</td>\n",
       "      <td>58691</td>\n",
       "      <td>87</td>\n",
       "    </tr>\n",
       "    <tr>\n",
       "      <th>10</th>\n",
       "      <td>MIT</td>\n",
       "      <td>1380</td>\n",
       "      <td>94</td>\n",
       "      <td>30</td>\n",
       "      <td>10</td>\n",
       "      <td>34870</td>\n",
       "      <td>91</td>\n",
       "    </tr>\n",
       "    <tr>\n",
       "      <th>11</th>\n",
       "      <td>Northwestern</td>\n",
       "      <td>1260</td>\n",
       "      <td>85</td>\n",
       "      <td>39</td>\n",
       "      <td>11</td>\n",
       "      <td>28052</td>\n",
       "      <td>89</td>\n",
       "    </tr>\n",
       "    <tr>\n",
       "      <th>12</th>\n",
       "      <td>NotreDame</td>\n",
       "      <td>1255</td>\n",
       "      <td>81</td>\n",
       "      <td>42</td>\n",
       "      <td>13</td>\n",
       "      <td>15122</td>\n",
       "      <td>94</td>\n",
       "    </tr>\n",
       "    <tr>\n",
       "      <th>13</th>\n",
       "      <td>PennState</td>\n",
       "      <td>1081</td>\n",
       "      <td>38</td>\n",
       "      <td>54</td>\n",
       "      <td>18</td>\n",
       "      <td>10185</td>\n",
       "      <td>80</td>\n",
       "    </tr>\n",
       "    <tr>\n",
       "      <th>14</th>\n",
       "      <td>Princeton</td>\n",
       "      <td>1375</td>\n",
       "      <td>91</td>\n",
       "      <td>14</td>\n",
       "      <td>8</td>\n",
       "      <td>30220</td>\n",
       "      <td>95</td>\n",
       "    </tr>\n",
       "    <tr>\n",
       "      <th>15</th>\n",
       "      <td>Purdue</td>\n",
       "      <td>1005</td>\n",
       "      <td>28</td>\n",
       "      <td>90</td>\n",
       "      <td>19</td>\n",
       "      <td>9066</td>\n",
       "      <td>69</td>\n",
       "    </tr>\n",
       "    <tr>\n",
       "      <th>16</th>\n",
       "      <td>Stanford</td>\n",
       "      <td>1360</td>\n",
       "      <td>90</td>\n",
       "      <td>20</td>\n",
       "      <td>12</td>\n",
       "      <td>36450</td>\n",
       "      <td>93</td>\n",
       "    </tr>\n",
       "    <tr>\n",
       "      <th>17</th>\n",
       "      <td>TexasA&amp;M</td>\n",
       "      <td>1075</td>\n",
       "      <td>49</td>\n",
       "      <td>67</td>\n",
       "      <td>25</td>\n",
       "      <td>8704</td>\n",
       "      <td>67</td>\n",
       "    </tr>\n",
       "    <tr>\n",
       "      <th>18</th>\n",
       "      <td>UCBerkeley</td>\n",
       "      <td>1240</td>\n",
       "      <td>95</td>\n",
       "      <td>40</td>\n",
       "      <td>17</td>\n",
       "      <td>15140</td>\n",
       "      <td>78</td>\n",
       "    </tr>\n",
       "    <tr>\n",
       "      <th>19</th>\n",
       "      <td>UChicago</td>\n",
       "      <td>1290</td>\n",
       "      <td>75</td>\n",
       "      <td>50</td>\n",
       "      <td>13</td>\n",
       "      <td>38380</td>\n",
       "      <td>87</td>\n",
       "    </tr>\n",
       "    <tr>\n",
       "      <th>20</th>\n",
       "      <td>UMichigan</td>\n",
       "      <td>1180</td>\n",
       "      <td>65</td>\n",
       "      <td>68</td>\n",
       "      <td>16</td>\n",
       "      <td>15470</td>\n",
       "      <td>85</td>\n",
       "    </tr>\n",
       "    <tr>\n",
       "      <th>21</th>\n",
       "      <td>UPenn</td>\n",
       "      <td>1285</td>\n",
       "      <td>80</td>\n",
       "      <td>36</td>\n",
       "      <td>11</td>\n",
       "      <td>27553</td>\n",
       "      <td>90</td>\n",
       "    </tr>\n",
       "    <tr>\n",
       "      <th>22</th>\n",
       "      <td>UVA</td>\n",
       "      <td>1225</td>\n",
       "      <td>77</td>\n",
       "      <td>44</td>\n",
       "      <td>14</td>\n",
       "      <td>13349</td>\n",
       "      <td>92</td>\n",
       "    </tr>\n",
       "    <tr>\n",
       "      <th>23</th>\n",
       "      <td>UWisconsin</td>\n",
       "      <td>1085</td>\n",
       "      <td>40</td>\n",
       "      <td>69</td>\n",
       "      <td>15</td>\n",
       "      <td>11857</td>\n",
       "      <td>71</td>\n",
       "    </tr>\n",
       "    <tr>\n",
       "      <th>24</th>\n",
       "      <td>Yale</td>\n",
       "      <td>1375</td>\n",
       "      <td>95</td>\n",
       "      <td>19</td>\n",
       "      <td>11</td>\n",
       "      <td>43514</td>\n",
       "      <td>96</td>\n",
       "    </tr>\n",
       "  </tbody>\n",
       "</table>\n",
       "</div>"
      ],
      "text/plain": [
       "            Univ   SAT  Top10  Accept  SFRatio  Expenses  GradRate\n",
       "0          Brown  1310     89      22       13     22704        94\n",
       "1        CalTech  1415    100      25        6     63575        81\n",
       "2            CMU  1260     62      59        9     25026        72\n",
       "3       Columbia  1310     76      24       12     31510        88\n",
       "4        Cornell  1280     83      33       13     21864        90\n",
       "5      Dartmouth  1340     89      23       10     32162        95\n",
       "6           Duke  1315     90      30       12     31585        95\n",
       "7     Georgetown  1255     74      24       12     20126        92\n",
       "8        Harvard  1400     91      14       11     39525        97\n",
       "9   JohnsHopkins  1305     75      44        7     58691        87\n",
       "10           MIT  1380     94      30       10     34870        91\n",
       "11  Northwestern  1260     85      39       11     28052        89\n",
       "12     NotreDame  1255     81      42       13     15122        94\n",
       "13     PennState  1081     38      54       18     10185        80\n",
       "14     Princeton  1375     91      14        8     30220        95\n",
       "15        Purdue  1005     28      90       19      9066        69\n",
       "16      Stanford  1360     90      20       12     36450        93\n",
       "17      TexasA&M  1075     49      67       25      8704        67\n",
       "18    UCBerkeley  1240     95      40       17     15140        78\n",
       "19      UChicago  1290     75      50       13     38380        87\n",
       "20     UMichigan  1180     65      68       16     15470        85\n",
       "21         UPenn  1285     80      36       11     27553        90\n",
       "22           UVA  1225     77      44       14     13349        92\n",
       "23    UWisconsin  1085     40      69       15     11857        71\n",
       "24          Yale  1375     95      19       11     43514        96"
      ]
     },
     "execution_count": 7,
     "metadata": {},
     "output_type": "execute_result"
    }
   ],
   "source": [
    "df = pd.read_csv(\"universities.csv\")\n",
    "df"
   ]
  },
  {
   "cell_type": "markdown",
   "id": "dabbcbd6-e4da-4f7e-81b5-a528403afd99",
   "metadata": {},
   "source": [
    "# visualize the gradRate using histogram "
   ]
  },
  {
   "cell_type": "code",
   "execution_count": 19,
   "id": "b32b3fa2-c112-4968-96c9-eb8d52a104aa",
   "metadata": {},
   "outputs": [],
   "source": [
    "import matplotlib.pyplot as plt\n",
    "import seaborn as sns"
   ]
  },
  {
   "cell_type": "code",
   "execution_count": 21,
   "id": "37d3777d-312d-4328-b424-fac188b25557",
   "metadata": {},
   "outputs": [
    {
     "data": {
      "text/plain": [
       "(array([2., 2., 0., 1., 2., 0., 3., 4., 4., 7.]),\n",
       " array([67., 70., 73., 76., 79., 82., 85., 88., 91., 94., 97.]),\n",
       " <BarContainer object of 10 artists>)"
      ]
     },
     "execution_count": 21,
     "metadata": {},
     "output_type": "execute_result"
    },
    {
     "data": {
      "image/png": "[encoded data removed]",
      "text/plain": [
       "<Figure size 640x480 with 1 Axes>"
      ]
     },
     "metadata": {},
     "output_type": "display_data"
    }
   ],
   "source": [
    "plt.hist(df[\"GradRate\"])"
   ]
  },
  {
   "cell_type": "markdown",
   "id": "6e4780ce-7927-4edc-910a-1e021238771c",
   "metadata": {},
   "source": [
    "# visualization using Box-Plot"
   ]
  },
  {
   "cell_type": "code",
   "execution_count": 27,
   "id": "28764dc8-16fd-4abc-94fc-4b8a12f9d686",
   "metadata": {},
   "outputs": [
    {
     "data": {
      "text/plain": [
       "0    20\n",
       "1    50\n",
       "2    10\n",
       "3    25\n",
       "4    30\n",
       "5    35\n",
       "6    28\n",
       "7    40\n",
       "8    45\n",
       "9    60\n",
       "dtype: int64"
      ]
     },
     "execution_count": 27,
     "metadata": {},
     "output_type": "execute_result"
    }
   ],
   "source": [
    "S = [20,50,10,25,30,35,28,40,45,60]\n",
    "scores = pd.Series(S)\n",
    "scores"
   ]
  },
  {
   "cell_type": "code",
   "execution_count": 41,
   "id": "65680da2-5f9d-4bb2-ba71-0737a32f7715",
   "metadata": {},
   "outputs": [
    {
     "data": {
      "text/plain": [
       "{'whiskers': [<matplotlib.lines.Line2D at 0x178ff6632c0>,\n",
       "  <matplotlib.lines.Line2D at 0x178ff663560>],\n",
       " 'caps': [<matplotlib.lines.Line2D at 0x178ff6637d0>,\n",
       "  <matplotlib.lines.Line2D at 0x178ff6638f0>],\n",
       " 'boxes': [<matplotlib.lines.Line2D at 0x178ff662fc0>],\n",
       " 'medians': [<matplotlib.lines.Line2D at 0x178ff663a40>],\n",
       " 'fliers': [<matplotlib.lines.Line2D at 0x178ff663ce0>],\n",
       " 'means': []}"
      ]
     },
     "execution_count": 41,
     "metadata": {},
     "output_type": "execute_result"
    },
    {
     "data": {
      "image/png": "[encoded data removed]",
      "text/plain": [
       "<Figure size 640x480 with 1 Axes>"
      ]
     },
     "metadata": {},
     "output_type": "display_data"
    }
   ],
   "source": [
    "plt.boxplot(scores)"
   ]
  },
  {
   "cell_type": "code",
   "execution_count": 43,
   "id": "33c3ce29-4fec-476c-b8e0-3dc307f7906b",
   "metadata": {},
   "outputs": [
    {
     "data": {
      "text/plain": [
       "0      20\n",
       "1      50\n",
       "2      10\n",
       "3      25\n",
       "4      30\n",
       "5      35\n",
       "6      28\n",
       "7      40\n",
       "8      45\n",
       "9      60\n",
       "10    100\n",
       "11    120\n",
       "12    150\n",
       "dtype: int64"
      ]
     },
     "execution_count": 43,
     "metadata": {},
     "output_type": "execute_result"
    }
   ],
   "source": [
    "S = [20,50,10,25,30,35,28,40,45,60,100,120,150]\n",
    "scores = pd.Series(S)\n",
    "scores"
   ]
  },
  {
   "cell_type": "code",
   "execution_count": 45,
   "id": "cdaa74ce-a7d1-4cea-841e-d31e09afacb4",
   "metadata": {},
   "outputs": [
    {
     "data": {
      "text/plain": [
       "{'whiskers': [<matplotlib.lines.Line2D at 0x178ff501be0>,\n",
       "  <matplotlib.lines.Line2D at 0x178ff501eb0>],\n",
       " 'caps': [<matplotlib.lines.Line2D at 0x178ff5021b0>,\n",
       "  <matplotlib.lines.Line2D at 0x178ff2ed0d0>],\n",
       " 'boxes': [<matplotlib.lines.Line2D at 0x178ff501970>],\n",
       " 'medians': [<matplotlib.lines.Line2D at 0x178ff5025d0>],\n",
       " 'fliers': [<matplotlib.lines.Line2D at 0x178ff5028d0>],\n",
       " 'means': []}"
      ]
     },
     "execution_count": 45,
     "metadata": {},
     "output_type": "execute_result"
    },
    {
     "data": {
      "image/png": "[encoded data removed]",
      "text/plain": [
       "<Figure size 640x480 with 1 Axes>"
      ]
     },
     "metadata": {},
     "output_type": "display_data"
    }
   ],
   "source": [
    "plt.boxplot(scores)"
   ]
  },
  {
   "cell_type": "code",
   "execution_count": 47,
   "id": "ebf20767-095e-4942-8dba-c025457c3b81",
   "metadata": {},
   "outputs": [
    {
     "data": {
      "text/plain": [
       "{'whiskers': [<matplotlib.lines.Line2D at 0x178ff584710>,\n",
       "  <matplotlib.lines.Line2D at 0x178ff5849b0>],\n",
       " 'caps': [<matplotlib.lines.Line2D at 0x178ff536c60>,\n",
       "  <matplotlib.lines.Line2D at 0x178ff584e60>],\n",
       " 'boxes': [<matplotlib.lines.Line2D at 0x178ff5844d0>],\n",
       " 'medians': [<matplotlib.lines.Line2D at 0x178ff584fe0>],\n",
       " 'fliers': [<matplotlib.lines.Line2D at 0x178ff5852e0>],\n",
       " 'means': []}"
      ]
     },
     "execution_count": 47,
     "metadata": {},
     "output_type": "execute_result"
    },
    {
     "data": {
      "image/png": "[encoded data removed]",
      "text/plain": [
       "<Figure size 640x480 with 1 Axes>"
      ]
     },
     "metadata": {},
     "output_type": "display_data"
    }
   ],
   "source": [
    "plt.boxplot(scores, vert=False)"
   ]
  },
  {
   "cell_type": "code",
   "execution_count": 50,
   "id": "b520cd69-3886-47ed-87a9-ba68ae52ad7f",
   "metadata": {},
   "outputs": [
    {
     "data": {
      "text/plain": [
       "{'whiskers': [<matplotlib.lines.Line2D at 0x178ff842c30>,\n",
       "  <matplotlib.lines.Line2D at 0x178ff842f30>],\n",
       " 'caps': [<matplotlib.lines.Line2D at 0x178ff8431a0>,\n",
       "  <matplotlib.lines.Line2D at 0x178ff841670>],\n",
       " 'boxes': [<matplotlib.lines.Line2D at 0x178ff842990>],\n",
       " 'medians': [<matplotlib.lines.Line2D at 0x178ff843620>],\n",
       " 'fliers': [<matplotlib.lines.Line2D at 0x178ff8438f0>],\n",
       " 'means': []}"
      ]
     },
     "execution_count": 50,
     "metadata": {},
     "output_type": "execute_result"
    },
    {
     "data": {
      "image/png": "[encoded data removed]",
      "text/plain": [
       "<Figure size 640x480 with 1 Axes>"
      ]
     },
     "metadata": {},
     "output_type": "display_data"
    }
   ],
   "source": [
    "#visualization of box plot from universsity data sets\n",
    "plt.boxplot(df[\"GradRate\"])"
   ]
  },
  {
   "cell_type": "code",
   "execution_count": 52,
   "id": "dd2e3914-c48e-4e37-845c-cfe95859a5e6",
   "metadata": {},
   "outputs": [
    {
     "data": {
      "text/plain": [
       "{'whiskers': [<matplotlib.lines.Line2D at 0x178ff8c4cb0>,\n",
       "  <matplotlib.lines.Line2D at 0x178ff8c4f20>],\n",
       " 'caps': [<matplotlib.lines.Line2D at 0x178ff8c5220>,\n",
       "  <matplotlib.lines.Line2D at 0x178ff436990>],\n",
       " 'boxes': [<matplotlib.lines.Line2D at 0x178ff8c4a10>],\n",
       " 'medians': [<matplotlib.lines.Line2D at 0x178ff8c5370>],\n",
       " 'fliers': [<matplotlib.lines.Line2D at 0x178ff8c56d0>],\n",
       " 'means': []}"
      ]
     },
     "execution_count": 52,
     "metadata": {},
     "output_type": "execute_result"
    },
    {
     "data": {
      "image/png": "[encoded data removed]",
      "text/plain": [
       "<Figure size 640x480 with 1 Axes>"
      ]
     },
     "metadata": {},
     "output_type": "display_data"
    }
   ],
   "source": [
    "plt.boxplot(df[\"Expenses\"])"
   ]
  },
  {
   "cell_type": "code",
   "execution_count": 54,
   "id": "505a94be-0a88-446e-b807-ff5146d16f6a",
   "metadata": {},
   "outputs": [
    {
     "data": {
      "text/plain": [
       "{'whiskers': [<matplotlib.lines.Line2D at 0x178ff90a9c0>,\n",
       "  <matplotlib.lines.Line2D at 0x178ff90ac30>],\n",
       " 'caps': [<matplotlib.lines.Line2D at 0x178ff90af00>,\n",
       "  <matplotlib.lines.Line2D at 0x178ff9095b0>],\n",
       " 'boxes': [<matplotlib.lines.Line2D at 0x178ff90a7e0>],\n",
       " 'medians': [<matplotlib.lines.Line2D at 0x178ff90b320>],\n",
       " 'fliers': [<matplotlib.lines.Line2D at 0x178ff90b590>],\n",
       " 'means': []}"
      ]
     },
     "execution_count": 54,
     "metadata": {},
     "output_type": "execute_result"
    },
    {
     "data": {
      "image/png": "[encoded data removed]",
      "text/plain": [
       "<Figure size 640x480 with 1 Axes>"
      ]
     },
     "metadata": {},
     "output_type": "display_data"
    }
   ],
   "source": [
    "\tplt.boxplot(df[\"SFRatio\"])"
   ]
  },
  {
   "cell_type": "code",
   "execution_count": 56,
   "id": "97b28204-9ebc-4b9b-9728-bba59518e687",
   "metadata": {},
   "outputs": [
    {
     "data": {
      "text/plain": [
       "{'whiskers': [<matplotlib.lines.Line2D at 0x178ff741730>,\n",
       "  <matplotlib.lines.Line2D at 0x178ff7419a0>],\n",
       " 'caps': [<matplotlib.lines.Line2D at 0x178ff741c40>,\n",
       "  <matplotlib.lines.Line2D at 0x178ff741e80>],\n",
       " 'boxes': [<matplotlib.lines.Line2D at 0x178ff4d8080>],\n",
       " 'medians': [<matplotlib.lines.Line2D at 0x178ff742060>],\n",
       " 'fliers': [<matplotlib.lines.Line2D at 0x178ff742300>],\n",
       " 'means': []}"
      ]
     },
     "execution_count": 56,
     "metadata": {},
     "output_type": "execute_result"
    },
    {
     "data": {
      "image/png": "[encoded data removed]",
      "text/plain": [
       "<Figure size 640x480 with 1 Axes>"
      ]
     },
     "metadata": {},
     "output_type": "display_data"
    }
   ],
   "source": [
    "plt.boxplot(df[\"SFRatio\"])"
   ]
  },
  {
   "cell_type": "code",
   "execution_count": 58,
   "id": "3242488f-842b-4bdf-9966-150279b342f5",
   "metadata": {},
   "outputs": [
    {
     "data": {
      "text/plain": [
       "{'whiskers': [<matplotlib.lines.Line2D at 0x178ff7b8b90>,\n",
       "  <matplotlib.lines.Line2D at 0x178ff7b8e90>],\n",
       " 'caps': [<matplotlib.lines.Line2D at 0x178ff7b90d0>,\n",
       "  <matplotlib.lines.Line2D at 0x178ff6a9610>],\n",
       " 'boxes': [<matplotlib.lines.Line2D at 0x178ff7b8920>],\n",
       " 'medians': [<matplotlib.lines.Line2D at 0x178ff7b9520>],\n",
       " 'fliers': [<matplotlib.lines.Line2D at 0x178ff7b9790>],\n",
       " 'means': []}"
      ]
     },
     "execution_count": 58,
     "metadata": {},
     "output_type": "execute_result"
    },
    {
     "data": {
      "image/png": "[encoded data removed]",
      "text/plain": [
       "<Figure size 640x480 with 1 Axes>"
      ]
     },
     "metadata": {},
     "output_type": "display_data"
    }
   ],
   "source": [
    "plt.boxplot(df[\"Accept\"])"
   ]
  },
  {
   "cell_type": "code",
   "execution_count": 60,
   "id": "a5e163be-807b-4061-a670-03e7dcd78e62",
   "metadata": {},
   "outputs": [
    {
     "data": {
      "text/plain": [
       "{'whiskers': [<matplotlib.lines.Line2D at 0x178ffa6f980>,\n",
       "  <matplotlib.lines.Line2D at 0x178ffa6fbf0>],\n",
       " 'caps': [<matplotlib.lines.Line2D at 0x178ffa6fe90>,\n",
       "  <matplotlib.lines.Line2D at 0x178ffa6e4b0>],\n",
       " 'boxes': [<matplotlib.lines.Line2D at 0x178ffa6f6e0>],\n",
       " 'medians': [<matplotlib.lines.Line2D at 0x178ffaac2f0>],\n",
       " 'fliers': [<matplotlib.lines.Line2D at 0x178ffaac530>],\n",
       " 'means': []}"
      ]
     },
     "execution_count": 60,
     "metadata": {},
     "output_type": "execute_result"
    },
    {
     "data": {
      "image/png": "[encoded data removed]",
      "text/plain": [
       "<Figure size 640x480 with 1 Axes>"
      ]
     },
     "metadata": {},
     "output_type": "display_data"
    }
   ],
   "source": [
    "plt.boxplot(df[\"SAT\"])"
   ]
  },
  {
   "cell_type": "code",
   "execution_count": 62,
   "id": "dad63111-9e72-4c02-9ba8-a265de0848c0",
   "metadata": {},
   "outputs": [
    {
     "data": {
      "text/plain": [
       "{'whiskers': [<matplotlib.lines.Line2D at 0x178ffb08da0>,\n",
       "  <matplotlib.lines.Line2D at 0x178ffb090a0>],\n",
       " 'caps': [<matplotlib.lines.Line2D at 0x178ffb092e0>,\n",
       "  <matplotlib.lines.Line2D at 0x178ffad3890>],\n",
       " 'boxes': [<matplotlib.lines.Line2D at 0x178ffb08ad0>],\n",
       " 'medians': [<matplotlib.lines.Line2D at 0x178ffb096d0>],\n",
       " 'fliers': [<matplotlib.lines.Line2D at 0x178ffb09970>],\n",
       " 'means': []}"
      ]
     },
     "execution_count": 62,
     "metadata": {},
     "output_type": "execute_result"
    },
    {
     "data": {
      "image/png": "[encoded data removed]",
      "text/plain": [
       "<Figure size 640x480 with 1 Axes>"
      ]
     },
     "metadata": {},
     "output_type": "display_data"
    }
   ],
   "source": [
    "plt.boxplot(df[\"Top10\"])"
   ]
  },
  {
   "cell_type": "markdown",
   "id": "4c906d35-e5e6-4d3e-bff6-69da046ab800",
   "metadata": {},
   "source": [
    "##### the extreme values are found in Top10,SAT,Accept,SFRatio"
   ]
  },
  {
   "cell_type": "code",
   "execution_count": 65,
   "id": "86a051c1-9457-4663-9c34-fdcb88199771",
   "metadata": {},
   "outputs": [
    {
     "data": {
      "text/plain": [
       "{'whiskers': [<matplotlib.lines.Line2D at 0x178ff9696d0>,\n",
       "  <matplotlib.lines.Line2D at 0x178ff969940>],\n",
       " 'caps': [<matplotlib.lines.Line2D at 0x178ff969c40>,\n",
       "  <matplotlib.lines.Line2D at 0x178ff969ee0>],\n",
       " 'boxes': [<matplotlib.lines.Line2D at 0x178ff969460>],\n",
       " 'medians': [<matplotlib.lines.Line2D at 0x178ff96a1e0>],\n",
       " 'fliers': [<matplotlib.lines.Line2D at 0x178ff96a4e0>],\n",
       " 'means': []}"
      ]
     },
     "execution_count": 65,
     "metadata": {},
     "output_type": "execute_result"
    },
    {
     "data": {
      "image/png": "[encoded data removed]",
      "text/plain": [
       "<Figure size 640x480 with 1 Axes>"
      ]
     },
     "metadata": {},
     "output_type": "display_data"
    }
   ],
   "source": [
    "plt.boxplot(df[\"SAT\"], vert = False)\n",
    "plt.boxplot(df[\"Top10\"], vert = False)\n",
    "plt.boxplot(df[\"Accept\"], vert = False)\n",
    "plt.boxplot(df[\"SFRatio\"], vert = False)\n",
    "plt.boxplot(df[\"Expenses\"], vert = False)\n",
    "plt.boxplot(df[\"GradRate\"], vert = False)"
   ]
  },
  {
   "cell_type": "code",
   "execution_count": null,
   "id": "4e82c89c-0022-43c8-afc9-90dd83370e70",
   "metadata": {},
   "outputs": [],
   "source": []
  }
 ],
 "metadata": {
  "kernelspec": {
   "display_name": "Python [conda env:base] *",
   "language": "python",
   "name": "conda-base-py"
  },
  "language_info": {
   "codemirror_mode": {
    "name": "ipython",
    "version": 3
   },
   "file_extension": ".py",
   "mimetype": "text/x-python",
   "name": "python",
   "nbconvert_exporter": "python",
   "pygments_lexer": "ipython3",
   "version": "3.12.7"
  }
 },
 "nbformat": 4,
 "nbformat_minor": 5
}
